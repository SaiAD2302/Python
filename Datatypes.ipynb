{
 "cells": [
  {
   "cell_type": "markdown",
   "id": "9903a78e",
   "metadata": {},
   "source": [
    "# <b style=\"color:#FF0000;\">Python Datatypes</b>"
   ]
  },
  {
   "cell_type": "markdown",
   "id": "24a7e8a4",
   "metadata": {},
   "source": [
    "No need to mention datatype before variable like other languages <b style=\"color:#FF0000;\"> XXX </b><b style=\"color:#01295c;\"> 'int a = 10'</b> <b style=\"color:#FF0000;\"> XXX</b>\n",
    "\n",
    "Python's Datatypes are<b style=\"color:#FF00FF;\"> Dynamically Typed</b>\n",
    "\n",
    "Python will Automatically recognises its Datatypes.\n",
    "\n",
    "Python is a <b style=\"color:#FF00FF;\"> Brilliant Language</b>"
   ]
  },
  {
   "cell_type": "markdown",
   "id": "dcb95dca",
   "metadata": {},
   "source": [
    "# \n",
    "\n",
    "\n",
    "# <b style=\"color:#008000;\">     Integers</b> - int()"
   ]
  },
  {
   "cell_type": "markdown",
   "id": "4f0e603f",
   "metadata": {},
   "source": [
    "   * the numbers....including negative and positive numbers and even zero without decimals are Integers <br>\n",
    "     <br>\n",
    "   * eg ..  23,  -25,  0 <br>\n",
    "     <br>\n",
    "   * 21465138636487319-no limitations <br>"
   ]
  },
  {
   "cell_type": "code",
   "execution_count": 1,
   "id": "bd229931",
   "metadata": {},
   "outputs": [
    {
     "name": "stdout",
     "output_type": "stream",
     "text": [
      "10\n"
     ]
    }
   ],
   "source": [
    "a=10\n",
    "print(a)\n"
   ]
  },
  {
   "cell_type": "code",
   "execution_count": 2,
   "id": "ec67b7b0",
   "metadata": {},
   "outputs": [
    {
     "name": "stdout",
     "output_type": "stream",
     "text": [
      "<class 'int'>\n"
     ]
    }
   ],
   "source": [
    "print(type(a))"
   ]
  },
  {
   "cell_type": "code",
   "execution_count": null,
   "id": "762e1500",
   "metadata": {},
   "outputs": [],
   "source": []
  },
  {
   "cell_type": "markdown",
   "id": "a62328de",
   "metadata": {},
   "source": [
    "# \n",
    "\n",
    "\n",
    "# <b style=\"color:#008000;\">Float  </b>-  float()"
   ]
  },
  {
   "cell_type": "markdown",
   "id": "826e3dc6",
   "metadata": {},
   "source": [
    "   * decimals <br>\n",
    "    <br>\n",
    "   * eg ..  23.45,  -4.73,  4.0"
   ]
  },
  {
   "cell_type": "code",
   "execution_count": 3,
   "id": "fd0ecc79",
   "metadata": {},
   "outputs": [
    {
     "name": "stdout",
     "output_type": "stream",
     "text": [
      "10.26\n"
     ]
    }
   ],
   "source": [
    "a=10.26\n",
    "print(a)"
   ]
  },
  {
   "cell_type": "code",
   "execution_count": 4,
   "id": "ab05f4f5",
   "metadata": {},
   "outputs": [
    {
     "name": "stdout",
     "output_type": "stream",
     "text": [
      "<class 'float'>\n"
     ]
    }
   ],
   "source": [
    "print(type(a))"
   ]
  },
  {
   "cell_type": "code",
   "execution_count": null,
   "id": "9db11a03",
   "metadata": {},
   "outputs": [],
   "source": []
  },
  {
   "cell_type": "markdown",
   "id": "08a853b4",
   "metadata": {},
   "source": [
    "# \n",
    "\n",
    "\n",
    "# <b style=\"color:#008000;\">string</b> -  str()"
   ]
  },
  {
   "cell_type": "markdown",
   "id": "2cd15db4",
   "metadata": {},
   "source": [
    "   * string can be anything even integers,floats,char,words,sentences,special characters<br>\n",
    "     that all wrapped in <b style=\"color:#FF00FF;\"> single quotes   ('  <span>  </span>   ')  </b>or <b style=\"color:#FF00FF;\">Double Quotes   (\"      \")</b><br>\n",
    "     <br>\n",
    "   * '23',\"23.5\",'a','python','hello world','+'"
   ]
  },
  {
   "cell_type": "code",
   "execution_count": 5,
   "id": "a3e0c2b2",
   "metadata": {},
   "outputs": [
    {
     "name": "stdout",
     "output_type": "stream",
     "text": [
      "sai\n"
     ]
    }
   ],
   "source": [
    "a='sai'\n",
    "print(a)"
   ]
  },
  {
   "cell_type": "code",
   "execution_count": 6,
   "id": "5368910a",
   "metadata": {},
   "outputs": [
    {
     "name": "stdout",
     "output_type": "stream",
     "text": [
      "<class 'str'>\n"
     ]
    }
   ],
   "source": [
    "print(type(a))"
   ]
  },
  {
   "cell_type": "code",
   "execution_count": null,
   "id": "92bcaa63",
   "metadata": {},
   "outputs": [],
   "source": []
  },
  {
   "cell_type": "markdown",
   "id": "bca67b70",
   "metadata": {},
   "source": [
    "# \n",
    "\n",
    "\n",
    "\n",
    "# <b style=\"color:#008000;\">boolean</b> -  bool\n",
    "   * True or False<br>\n",
    "   * 7>2==True,2>7==False"
   ]
  },
  {
   "cell_type": "code",
   "execution_count": 7,
   "id": "d9dbadb0",
   "metadata": {},
   "outputs": [
    {
     "name": "stdout",
     "output_type": "stream",
     "text": [
      "True\n"
     ]
    }
   ],
   "source": [
    "a=7>2\n",
    "print(a)"
   ]
  },
  {
   "cell_type": "code",
   "execution_count": 8,
   "id": "fa67e718",
   "metadata": {},
   "outputs": [
    {
     "name": "stdout",
     "output_type": "stream",
     "text": [
      "<class 'bool'>\n"
     ]
    }
   ],
   "source": [
    "print(type(a))"
   ]
  },
  {
   "cell_type": "code",
   "execution_count": null,
   "id": "1d6c9150",
   "metadata": {},
   "outputs": [],
   "source": []
  },
  {
   "cell_type": "markdown",
   "id": "898b1cf2",
   "metadata": {},
   "source": [
    "# \n",
    "\n",
    "\n",
    "# <b style=\"color:#008000;\">diff between numbers in int() and str()</b>"
   ]
  },
  {
   "cell_type": "code",
   "execution_count": 11,
   "id": "d4ef9abb",
   "metadata": {},
   "outputs": [
    {
     "name": "stdout",
     "output_type": "stream",
     "text": [
      "100\n"
     ]
    }
   ],
   "source": [
    "a=10\n",
    "print(a*10)  # Here 10 is a number"
   ]
  },
  {
   "cell_type": "code",
   "execution_count": 13,
   "id": "2b927104",
   "metadata": {},
   "outputs": [
    {
     "name": "stdout",
     "output_type": "stream",
     "text": [
      "10101010101010101010\n"
     ]
    }
   ],
   "source": [
    "a='10'\n",
    "print(a*10) # value of (a) is also an integer but wrapped inside quotes...so it is considered as string\n",
    "            # as of in math x*10 = 10 times x\n",
    "            # the same applies here  ...the string of 10 is considered as value and multiplied that many times"
   ]
  },
  {
   "cell_type": "code",
   "execution_count": null,
   "id": "fd8ba6b7",
   "metadata": {},
   "outputs": [],
   "source": []
  }
 ],
 "metadata": {
  "kernelspec": {
   "display_name": "Python 3 (ipykernel)",
   "language": "python",
   "name": "python3"
  },
  "language_info": {
   "codemirror_mode": {
    "name": "ipython",
    "version": 3
   },
   "file_extension": ".py",
   "mimetype": "text/x-python",
   "name": "python",
   "nbconvert_exporter": "python",
   "pygments_lexer": "ipython3",
   "version": "3.9.7"
  }
 },
 "nbformat": 4,
 "nbformat_minor": 5
}
