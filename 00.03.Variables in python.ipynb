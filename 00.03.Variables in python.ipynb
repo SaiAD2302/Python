{
 "cells": [
  {
   "cell_type": "markdown",
   "id": "322a7515",
   "metadata": {},
   "source": [
    "# <b style=\"color:#FF0000;\"><u>Variables in python</u></b>"
   ]
  },
  {
   "cell_type": "markdown",
   "id": "784a9fd6",
   "metadata": {},
   "source": [
    "A Python variable is a symbolic name that is a reference or pointer to an object."
   ]
  },
  {
   "cell_type": "markdown",
   "id": "f2ffda62",
   "metadata": {},
   "source": [
    "Once an object is assigned to a variable, you can refer to the object by that name."
   ]
  },
  {
   "cell_type": "markdown",
   "id": "b4bf4093",
   "metadata": {},
   "source": [
    "<b style=\"color:#008000;\"><u>----------------------------------------------------------------------------------------------------------------------------------------------------------------------</u></b> "
   ]
  },
  {
   "attachments": {
    "0_9fmPGmQurHOwyA2t.png": {
     "image/png": "[encoded data removed]"
    }
   },
   "cell_type": "markdown",
   "id": "dca9fc6d",
   "metadata": {},
   "source": [
    "# ![0_9fmPGmQurHOwyA2t.png](attachment:0_9fmPGmQurHOwyA2t.png)"
   ]
  },
  {
   "cell_type": "markdown",
   "id": "992c9045",
   "metadata": {},
   "source": [
    "### <b style=\"color:#FF00FF;\"> Variables are used as a storage space for storing values or objects</b>\n",
    "<b>for.eg:</b><br>\n",
    "&nbsp;&nbsp;&nbsp;&nbsp;&nbsp;&nbsp;  <b>bank(variable)</b> is the place where we save our <b>Money(object/value)</b>.<br>\n",
    "&nbsp;&nbsp;&nbsp;&nbsp;&nbsp;&nbsp; we can get the <b>money(object/value)</b> anytime by using <b>bank(variable)</b>."
   ]
  },
  {
   "cell_type": "markdown",
   "id": "ddf898b4",
   "metadata": {},
   "source": [
    "## <b style=\"color:#008000;\"><u>Conditions to declare a variable :</u></b> "
   ]
  },
  {
   "cell_type": "markdown",
   "id": "c6cebcc1",
   "metadata": {},
   "source": [
    "### 1.Variable should not start with Numbers...\n",
    "<b>eg:</b> <br>\n",
    "<b style=\"color:#FF0000;\">1sai , 10birds</b > - declaring in this manner...will recieve an error<br>\n",
    "<b style=\"color:#26B1EC;\">sai1 , sai1sai</b > - integers may take place in the middle or at the closure"
   ]
  },
  {
   "cell_type": "code",
   "execution_count": 2,
   "id": "4f75c993",
   "metadata": {},
   "outputs": [
    {
     "ename": "SyntaxError",
     "evalue": "invalid syntax (Temp/ipykernel_12164/2898078925.py, line 1)",
     "output_type": "error",
     "traceback": [
      "\u001b[1;36m  File \u001b[1;32m\"C:\\Users\\KAASHI~1\\AppData\\Local\\Temp/ipykernel_12164/2898078925.py\"\u001b[1;36m, line \u001b[1;32m1\u001b[0m\n\u001b[1;33m    1stname='sai'\u001b[0m\n\u001b[1;37m     ^\u001b[0m\n\u001b[1;31mSyntaxError\u001b[0m\u001b[1;31m:\u001b[0m invalid syntax\n"
     ]
    }
   ],
   "source": [
    "1stname='sai' # this will lead to an error"
   ]
  },
  {
   "cell_type": "code",
   "execution_count": 3,
   "id": "42f19fdb",
   "metadata": {},
   "outputs": [],
   "source": [
    "name1='sai' #or\n",
    "name1sai='sai'\n",
    "#python will accept this"
   ]
  },
  {
   "cell_type": "code",
   "execution_count": null,
   "id": "bcf2c114",
   "metadata": {},
   "outputs": [],
   "source": []
  },
  {
   "cell_type": "code",
   "execution_count": null,
   "id": "e8160185",
   "metadata": {},
   "outputs": [],
   "source": []
  },
  {
   "cell_type": "markdown",
   "id": "35e75004",
   "metadata": {},
   "source": [
    "### 2.Variable should not contain Special characters...(Except underscore ' _ ')\n",
    "<b>eg:</b> <br>\n",
    "<b style=\"color:#FF0000;\">sai@1 , #one</b > - declaring in this manner...will recieve an error<br>\n"
   ]
  },
  {
   "cell_type": "code",
   "execution_count": 2,
   "id": "77dff98d",
   "metadata": {},
   "outputs": [
    {
     "ename": "SyntaxError",
     "evalue": "cannot assign to operator (Temp/ipykernel_3692/3130231216.py, line 1)",
     "output_type": "error",
     "traceback": [
      "\u001b[1;36m  File \u001b[1;32m\"C:\\Users\\KAASHI~1\\AppData\\Local\\Temp/ipykernel_3692/3130231216.py\"\u001b[1;36m, line \u001b[1;32m1\u001b[0m\n\u001b[1;33m    sai@1=24\u001b[0m\n\u001b[1;37m    ^\u001b[0m\n\u001b[1;31mSyntaxError\u001b[0m\u001b[1;31m:\u001b[0m cannot assign to operator\n"
     ]
    }
   ],
   "source": [
    "sai@1=24     # this will lead to an error"
   ]
  },
  {
   "cell_type": "code",
   "execution_count": null,
   "id": "a3044876",
   "metadata": {},
   "outputs": [],
   "source": []
  },
  {
   "cell_type": "code",
   "execution_count": null,
   "id": "cc47335c",
   "metadata": {},
   "outputs": [],
   "source": []
  },
  {
   "cell_type": "markdown",
   "id": "7c699641",
   "metadata": {},
   "source": [
    "### 3.Variable should not contain space between words...\n",
    "<b>eg:</b> <br>\n",
    "<b style=\"color:#FF0000;\">person name , college name</b > - declaring in this manner...will recieve an error..<br>\n",
    "<b style=\"color:#26B1EC;\">person_name , college_name</b > - instead use <b>underscores</b><br> \n",
    "or use TitleCase like <b style=\"color:#26B1EC;\">PersonName , CollegeName</b > -- every word should start capitalized"
   ]
  },
  {
   "cell_type": "code",
   "execution_count": 3,
   "id": "61945779",
   "metadata": {},
   "outputs": [
    {
     "ename": "SyntaxError",
     "evalue": "invalid syntax (Temp/ipykernel_3692/3970572560.py, line 1)",
     "output_type": "error",
     "traceback": [
      "\u001b[1;36m  File \u001b[1;32m\"C:\\Users\\KAASHI~1\\AppData\\Local\\Temp/ipykernel_3692/3970572560.py\"\u001b[1;36m, line \u001b[1;32m1\u001b[0m\n\u001b[1;33m    school name = 'sboa'\u001b[0m\n\u001b[1;37m           ^\u001b[0m\n\u001b[1;31mSyntaxError\u001b[0m\u001b[1;31m:\u001b[0m invalid syntax\n"
     ]
    }
   ],
   "source": [
    "school name = 'sboa'   # this will lead to an error"
   ]
  },
  {
   "cell_type": "code",
   "execution_count": 6,
   "id": "919a4f37",
   "metadata": {},
   "outputs": [],
   "source": [
    "school_name = 'sboa' #or\n",
    "PersonName='sai'\n",
    "#python will accept this"
   ]
  },
  {
   "cell_type": "code",
   "execution_count": 7,
   "id": "48abc2ac",
   "metadata": {
    "scrolled": true
   },
   "outputs": [
    {
     "name": "stdout",
     "output_type": "stream",
     "text": [
      "sboa\n",
      "sai\n"
     ]
    }
   ],
   "source": [
    "print(school_name)\n",
    "print(PersonName)"
   ]
  },
  {
   "cell_type": "code",
   "execution_count": null,
   "id": "637ce979",
   "metadata": {},
   "outputs": [],
   "source": []
  },
  {
   "cell_type": "code",
   "execution_count": null,
   "id": "30644429",
   "metadata": {},
   "outputs": [],
   "source": []
  },
  {
   "cell_type": "markdown",
   "id": "c3cbcd2a",
   "metadata": {},
   "source": [
    "### 4.dont use pre-built keywords...\n",
    "<b>eg:</b> <br>\n",
    "<b style=\"color:#FF0000;\">print , def , return </b > - declaring in this manner...will affect the original functionality of those keywords..<br>\n",
    " "
   ]
  },
  {
   "cell_type": "code",
   "execution_count": 8,
   "id": "de2d196d",
   "metadata": {},
   "outputs": [],
   "source": [
    "print='saiaravind' # using print as variable will change the printing function"
   ]
  },
  {
   "cell_type": "code",
   "execution_count": 9,
   "id": "ef885c61",
   "metadata": {},
   "outputs": [
    {
     "ename": "TypeError",
     "evalue": "'str' object is not callable",
     "output_type": "error",
     "traceback": [
      "\u001b[1;31m---------------------------------------------------------------------------\u001b[0m",
      "\u001b[1;31mTypeError\u001b[0m                                 Traceback (most recent call last)",
      "\u001b[1;32mC:\\Users\\KAASHI~1\\AppData\\Local\\Temp/ipykernel_3692/1827598085.py\u001b[0m in \u001b[0;36m<module>\u001b[1;34m\u001b[0m\n\u001b[1;32m----> 1\u001b[1;33m \u001b[0mprint\u001b[0m\u001b[1;33m(\u001b[0m\u001b[1;34m'hi hello'\u001b[0m\u001b[1;33m)\u001b[0m\u001b[1;33m\u001b[0m\u001b[1;33m\u001b[0m\u001b[0m\n\u001b[0m",
      "\u001b[1;31mTypeError\u001b[0m: 'str' object is not callable"
     ]
    }
   ],
   "source": [
    "print('hi hello') #so we can't use print statements..."
   ]
  },
  {
   "cell_type": "code",
   "execution_count": 12,
   "id": "98e6a08d",
   "metadata": {},
   "outputs": [
    {
     "data": {
      "text/plain": [
       "'i'"
      ]
     },
     "execution_count": 12,
     "metadata": {},
     "output_type": "execute_result"
    }
   ],
   "source": [
    "# now print is a variable...we can access the value of this variable\n",
    "# here value has 'i' in its second index position\n",
    "\n",
    "print[2] \n"
   ]
  },
  {
   "cell_type": "code",
   "execution_count": null,
   "id": "36031ad3",
   "metadata": {},
   "outputs": [],
   "source": []
  }
 ],
 "metadata": {
  "kernelspec": {
   "display_name": "Python 3 (ipykernel)",
   "language": "python",
   "name": "python3"
  },
  "language_info": {
   "codemirror_mode": {
    "name": "ipython",
    "version": 3
   },
   "file_extension": ".py",
   "mimetype": "text/x-python",
   "name": "python",
   "nbconvert_exporter": "python",
   "pygments_lexer": "ipython3",
   "version": "3.9.7"
  }
 },
 "nbformat": 4,
 "nbformat_minor": 5
}
