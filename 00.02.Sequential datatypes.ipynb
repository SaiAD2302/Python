{
 "cells": [
  {
   "cell_type": "markdown",
   "id": "3a0a8a08",
   "metadata": {},
   "source": [
    "# <b style=\"color:#FF0000;\"><u>Sequential datatypes</u></b>"
   ]
  },
  {
   "cell_type": "markdown",
   "id": "7a1e9f3b",
   "metadata": {},
   "source": [
    "###   <b style=\"color:#FF00FF;\"> sequence of elements</b>"
   ]
  },
  {
   "cell_type": "markdown",
   "id": "014e7c1c",
   "metadata": {},
   "source": [
    "\n",
    "   * <b style=\"color:#008000;\">Lists</b>\n",
    "   * <b style=\"color:#008000;\">Tuples</b>\n",
    "   * <b style=\"color:#008000;\">Sets</b>\n",
    "   * <b style=\"color:#008000;\">Dictioanry</b><br>\n",
    "   <b style=\"color:#008000;\">----------------------</b><br>\n",
    "   <b style=\"color:#008000;\">----------------------</b><br>"
   ]
  },
  {
   "cell_type": "markdown",
   "id": "b44d91d7",
   "metadata": {},
   "source": [
    "## 1.<b style=\"color:#008000;\"><u>List</u></b> - list (  )"
   ]
  },
  {
   "cell_type": "markdown",
   "id": "8269dae8",
   "metadata": {},
   "source": [
    "   * list is wrapped inside '[  ]'-<b>Brackets</b> <br>\n",
    "     eg-<b style=\"color:#26B1EC;\">[1,2,3,4,5]</b>\n",
    "   * we can include <b>any datatype</b> at a time    <br>\n",
    "     <b style=\"color:#26B1EC;\">[ 1 , 12.30 , 'sai' , [ 1 , 2 ,3 , 5 ] ]</b>\n",
    "   * list <b>allows duplicates</b><br>\n",
    "     <b style=\"color:#26B1EC;\">[1,1,1,2,3,4,4,4,5,6,7]<br> \n",
    "   * we <b>can sort(ascending order)</b> the list elements<br>\n",
    "    <b style=\"color:#26B1EC;\">[4,3,2,5,1]</b> - sort - <b style=\"color:#26B1EC;\">[1,2,3,4,5]</b>\n",
    "   * we <b>can modify</b> list elements anytime\n",
    "   * similar datatypes in the list at a time is called as an <b>Array</b> "
   ]
  },
  {
   "cell_type": "code",
   "execution_count": 2,
   "id": "9c00e597",
   "metadata": {},
   "outputs": [],
   "source": [
    "a=[1,2,3,4,5,6,7,8,9,10]"
   ]
  },
  {
   "cell_type": "code",
   "execution_count": 4,
   "id": "a8a6de1f",
   "metadata": {},
   "outputs": [
    {
     "name": "stdout",
     "output_type": "stream",
     "text": [
      "[1, 2, 3, 4, 5, 6, 7, 8, 9, 10]\n",
      "<class 'list'>\n"
     ]
    }
   ],
   "source": [
    "print(a)\n",
    "print(type(a))"
   ]
  },
  {
   "cell_type": "code",
   "execution_count": null,
   "id": "065af5b9",
   "metadata": {},
   "outputs": [],
   "source": []
  },
  {
   "cell_type": "code",
   "execution_count": null,
   "id": "7facbbba",
   "metadata": {},
   "outputs": [],
   "source": []
  },
  {
   "cell_type": "markdown",
   "id": "a23cb20b",
   "metadata": {},
   "source": [
    "## 2.<b style=\"color:#008000;\"><u>Tuple</u></b>-tuple ( )"
   ]
  },
  {
   "cell_type": "markdown",
   "id": "7c5f5116",
   "metadata": {},
   "source": [
    "   * tuple is wrapped inside '( )'-<b>paranthesis</b><br>\n",
    "     eg-<b style=\"color:#26B1EC;\">(1,2,3,4,5)</b>\n",
    "   * we can include <b>any datatype</b> at a time<br>\n",
    "     <b style=\"color:#26B1EC;\">(1,12.30,'sai',[1,2,3,5])</b>\n",
    "   * tuple <b>allow duplicates</b><br>\n",
    "     <b style=\"color:#26B1EC;\">(1,1,1,2,3,4,4,4,5,6,7)</b>\n",
    "   * we <b>can sort</b>(ascending order) the tuple elements<br>\n",
    "     <b style=\"color:#26B1EC;\">(4,3,2,5,1)</b> - sort ==> <b style=\"color:#26B1EC;\">(1,2,3,4,5)</b>\n",
    "   * we <b>can't modify</b> tuple elements once declared"
   ]
  },
  {
   "cell_type": "code",
   "execution_count": 5,
   "id": "49e1683f",
   "metadata": {},
   "outputs": [],
   "source": [
    "tup=(1,2,3,4,5,6)"
   ]
  },
  {
   "cell_type": "code",
   "execution_count": 6,
   "id": "a86cb9de",
   "metadata": {},
   "outputs": [
    {
     "name": "stdout",
     "output_type": "stream",
     "text": [
      "(1, 2, 3, 4, 5, 6)\n",
      "<class 'list'>\n"
     ]
    }
   ],
   "source": [
    "print(tup)\n",
    "print(type(a))"
   ]
  },
  {
   "cell_type": "code",
   "execution_count": null,
   "id": "bc9d4221",
   "metadata": {},
   "outputs": [],
   "source": []
  },
  {
   "cell_type": "code",
   "execution_count": null,
   "id": "ecbb4c34",
   "metadata": {},
   "outputs": [],
   "source": []
  },
  {
   "cell_type": "markdown",
   "id": "35f30d01",
   "metadata": {},
   "source": [
    "# <b style=\"color:#FF00FF;\">{  } - curly braces</b> - it wont allow duplicates"
   ]
  },
  {
   "cell_type": "markdown",
   "id": "98de9806",
   "metadata": {},
   "source": [
    "## 3. <b style=\"color:#008000;\"><u> Sets</u></b> - set( )"
   ]
  },
  {
   "cell_type": "markdown",
   "id": "b23e1994",
   "metadata": {},
   "source": [
    "   * set is wrapped in '{ }'-<b>Curly Braces</b><br>\n",
    "     eg-<b style=\"color:#26B1EC;\">{1,2,3,4,5}</b>\n",
    "   * we can include <b>any datatypes</b> at a time-<b style=\"color:#26B1EC;\">{1,1.23,'sai',{1,2,3}}</b>\n",
    "   * set <b>don't allow duplicates</b>....<br>\n",
    "      if dupicates are given....python will remove the duplicates<br>\n",
    "     <b style=\"color:#26B1EC;\">{1,1,2,3,3,4,5,5,'python','python '} </b><b> - </b><b style=\"color:#26B1EC;\"> {1,2,3,4,5,'python','python '}</b><br> \n",
    "     Here..even a minor change makes it a unique element..here second <b>'python'</b> has extra space in it\n",
    "   * set <b>cannot be ordered</b>(sorted)\n",
    "   * we <b>can modify</b> set elements anytime"
   ]
  },
  {
   "cell_type": "code",
   "execution_count": 8,
   "id": "0fae52fb",
   "metadata": {},
   "outputs": [],
   "source": [
    "s={1,2,3,3,4,4,5,6,7}"
   ]
  },
  {
   "cell_type": "code",
   "execution_count": 9,
   "id": "0392fdf3",
   "metadata": {},
   "outputs": [
    {
     "name": "stdout",
     "output_type": "stream",
     "text": [
      "{1, 2, 3, 4, 5, 6, 7}\n",
      "<class 'set'>\n"
     ]
    }
   ],
   "source": [
    "print(s)\n",
    "print(type(s))"
   ]
  },
  {
   "cell_type": "code",
   "execution_count": null,
   "id": "ac9f65fa",
   "metadata": {},
   "outputs": [],
   "source": []
  },
  {
   "cell_type": "code",
   "execution_count": null,
   "id": "8f292b12",
   "metadata": {},
   "outputs": [],
   "source": []
  },
  {
   "cell_type": "markdown",
   "id": "8b17661a",
   "metadata": {},
   "source": [
    "## 4.<b style=\"color:#008000;\"><u>Dictionary</u></b>- dict( )"
   ]
  },
  {
   "cell_type": "markdown",
   "id": "b0056a66",
   "metadata": {},
   "source": [
    "   * dictionary is also wrapped in '{  }'-<b>Curly Braces</b>\n",
    "   * python will automatically recognises....set and dictionary<br>\n",
    "        &nbsp;  set is a <b>unique single elements</b><br>\n",
    "        &nbsp;  dictionary is a <b>key and value pair</b> elements <b style=\"color:#FF00FF;\">{KET : VALUE}</b><br>\n",
    "        &nbsp;  <b style=\"color:#26B1EC;\">{ 's' : 1 , 'a' : 2 , 'i' : 3 }</b>\n",
    "   * we <b>can include any datatypes</b> at a time<br>\n",
    "        &nbsp;  <b style=\"color:#26B1EC;\">{ 1 : 's' , 'a' : 1.23 , 'sai' : 12 , 'e' : {1,2,3}}</b>\n",
    "   * key and values can be anything <b>eg</b>..int,float,string or special characters within quotes '+'\n",
    "   * dictionary <b>cannot be ordered</b>(sorted)\n",
    "   * we <b>can modify</b> dictionary elements anytime\n",
    "   * Dictionary <b>don't allow duplicates</b>....<br>\n",
    "        &nbsp;  if assigned....the value of the <b>original key will be replaced with the duplicate value</b> ...<br>\n",
    "        &nbsp;  and <b>the duplicate  will be removed</b><br>\n",
    "        &nbsp;  <b style=\"color:#26B1EC;\">{ 's' : 1 , 'a' : 2 , 'i' : 3 , 's' : 4 , 's' : 5 }</b> It will be stored as  <b style=\"color:#26B1EC;\">{ 's' : 5 , 'a' : 2 , 'i' : 3 }</b>\n",
    "     "
   ]
  },
  {
   "cell_type": "code",
   "execution_count": 10,
   "id": "60c810f4",
   "metadata": {},
   "outputs": [],
   "source": [
    "d={ 's' : 1 , 'a' : 2 , 'i' : 3 , 's' : 4 , 's' : 5 }"
   ]
  },
  {
   "cell_type": "code",
   "execution_count": 11,
   "id": "37679942",
   "metadata": {},
   "outputs": [
    {
     "name": "stdout",
     "output_type": "stream",
     "text": [
      "{'s': 5, 'a': 2, 'i': 3}\n",
      "<class 'dict'>\n"
     ]
    }
   ],
   "source": [
    "print(d)\n",
    "print(type(d))"
   ]
  },
  {
   "cell_type": "code",
   "execution_count": null,
   "id": "5a6556d1",
   "metadata": {},
   "outputs": [],
   "source": []
  }
 ],
 "metadata": {
  "kernelspec": {
   "display_name": "Python 3 (ipykernel)",
   "language": "python",
   "name": "python3"
  },
  "language_info": {
   "codemirror_mode": {
    "name": "ipython",
    "version": 3
   },
   "file_extension": ".py",
   "mimetype": "text/x-python",
   "name": "python",
   "nbconvert_exporter": "python",
   "pygments_lexer": "ipython3",
   "version": "3.9.7"
  }
 },
 "nbformat": 4,
 "nbformat_minor": 5
}
