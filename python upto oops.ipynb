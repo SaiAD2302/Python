{
 "cells": [
  {
   "cell_type": "markdown",
   "id": "8f63a55a",
   "metadata": {},
   "source": [
    "# Python datatypes"
   ]
  },
  {
   "cell_type": "raw",
   "id": "53e33c21",
   "metadata": {},
   "source": [
    "integer-(int)==>\n",
    "    0,Negative numbers,positive numbers\n",
    "    0,12,-12\n",
    "    12\n",
    "float-(float)==>\n",
    "    decimals \n",
    "    2.35,26.54\n",
    "    20.36\n",
    "string-(str)==>\n",
    "    char,word,sentence,integers,float and anything\n",
    "    'a','python','hello this is sai','23',\"20.23\",'+'\n",
    "    \" \" or ' '\n",
    "Boolean==>\n",
    "    True or False\n",
    "    where we use......<,>,<=,>=,=="
   ]
  },
  {
   "cell_type": "code",
   "execution_count": 1,
   "id": "b6916b30",
   "metadata": {},
   "outputs": [
    {
     "name": "stdout",
     "output_type": "stream",
     "text": [
      "12\n"
     ]
    }
   ],
   "source": [
    "a=12\n",
    "print(a)\n",
    "#int a=10 no need to mention this"
   ]
  },
  {
   "cell_type": "code",
   "execution_count": 2,
   "id": "183ead48",
   "metadata": {},
   "outputs": [
    {
     "name": "stdout",
     "output_type": "stream",
     "text": [
      "48\n"
     ]
    }
   ],
   "source": [
    "print(a*4)"
   ]
  },
  {
   "cell_type": "code",
   "execution_count": 3,
   "id": "ca62d340",
   "metadata": {},
   "outputs": [],
   "source": [
    "a='12'"
   ]
  },
  {
   "cell_type": "code",
   "execution_count": 4,
   "id": "0957375f",
   "metadata": {},
   "outputs": [
    {
     "name": "stdout",
     "output_type": "stream",
     "text": [
      "121212121212121212121212\n"
     ]
    }
   ],
   "source": [
    "print(a*12)"
   ]
  },
  {
   "cell_type": "markdown",
   "id": "3a0a8a08",
   "metadata": {},
   "source": [
    "# Sequential datatypes"
   ]
  },
  {
   "cell_type": "raw",
   "id": "0b6171b9",
   "metadata": {},
   "source": [
    "#sequence of  elements\n",
    "1.List - (list)\n",
    "    list is wrapped inside '[]'-Brackets\n",
    "    eg-[1,2,3,4,5]\n",
    "    we can include any datatype at a time-[1,12.30,'sai',[1,2,3,5]]\n",
    "    list allow duplicates--[1,1,1,2,3,4,4,4,5,6,7]\n",
    "    we can sort(ascending order) the list elements-[4,3,2,5,1]-sort-[1,2,3,4,5]\n",
    "    we can modify list elements anytime\n",
    "\n",
    "2.Tuple-(tuple)\n",
    "    tuple is wrapped inside '()'-paranthesis\n",
    "    eg-(1,2,3,4,5)\n",
    "    we can include any datatype at a time-(1,12.30,'sai',[1,2,3,5])\n",
    "    tuple allow duplicates--(1,1,1,2,3,4,4,4,5,6,7)\n",
    "    we can sort(ascending order) the tuple elements-(4,3,2,5,1)-sort-(1,2,3,4,5)\n",
    "    we can't modify tuple elements anytime\n",
    "\n",
    "{}-curly braces-it wont allow duplicates\n",
    "\n",
    "3.Set-(set)\n",
    "    set is mentioned in '{}'\n",
    "    eg-{1,2,3,4,5}\n",
    "    we can include any datatypes at a time-{1,1.23,'sai',{1,2,3}}\n",
    "    set wont allow duplicates....if dupicates are given....python will remove the duplicates\n",
    "        {1,1,2,3,3,4,5,5,'python','python '}-{1,2,3,4,5,'python','python '}\n",
    "    set cannot be ordered(sorted)\n",
    "    we can modify set elements anytime\n",
    "\n",
    "4.dictionary-(dict)\n",
    "    dictionary is also mentioned in '{}'\n",
    "    python will automatically recognises....set and dictionary\n",
    "        set is a unique single elements\n",
    "        dictionary is a key and valued pair values\n",
    "    {'s':1 , 'a':2 , 'i':3}\n",
    "    we can include any datatypes at a time-{1:'s' , 'a':1.23 , 'sai':12 , 'e':{1,2,3}}\n",
    "    key and values can be anything eg..int,float,string or special characters within quotes '+'\n",
    "    dictionary cannot be ordered(sorted)\n",
    "    we can modify dictionary elements anytime\n",
    "    dont allow duplicates....if assigned....the value of the original key will be replaced with the duplicate value ...and the duplicate  will be removed"
   ]
  },
  {
   "cell_type": "code",
   "execution_count": 1,
   "id": "ff33988f",
   "metadata": {},
   "outputs": [
    {
     "name": "stdout",
     "output_type": "stream",
     "text": [
      "{'s': 1, 'a': 2, 'i': 3}\n"
     ]
    }
   ],
   "source": [
    "a={'s':1,'a':2,'i':3}\n",
    "\n",
    "print(a)"
   ]
  },
  {
   "cell_type": "code",
   "execution_count": 2,
   "id": "36166476",
   "metadata": {},
   "outputs": [
    {
     "name": "stdout",
     "output_type": "stream",
     "text": [
      "{'s': 'sai', 'a': 2, 'i': 3}\n"
     ]
    }
   ],
   "source": [
    "a={'s':1,'a':2,'i':3,'s':5,'s':'sai'}\n",
    "\n",
    "print(a)"
   ]
  },
  {
   "cell_type": "markdown",
   "id": "c38110e2",
   "metadata": {},
   "source": [
    "# variables"
   ]
  },
  {
   "cell_type": "raw",
   "id": "89c845c5",
   "metadata": {},
   "source": [
    "# Variables is called as names given to some values\n",
    "# Rules:\n",
    "#     it cant start with Numbers...eg-1sai-error\n",
    "#                                     sai1,sai1sai-correct execution\n",
    "#     cant include Special characters like @*/%$ eg-sai-1,sai$==error\n",
    "#     dont use Space between words like (sai name,college name)\n",
    "#         instead use underscores like (sai_name,college_name)\n",
    "#     dont use pre-built keywords like (print,list,def,with,and,or,not,if,elif,else)"
   ]
  },
  {
   "cell_type": "code",
   "execution_count": 3,
   "id": "3f6d1596",
   "metadata": {},
   "outputs": [],
   "source": [
    "# variable  = value\n",
    "college_name = 'SRM'\n"
   ]
  },
  {
   "cell_type": "code",
   "execution_count": 4,
   "id": "3cc49c3e",
   "metadata": {},
   "outputs": [
    {
     "name": "stdout",
     "output_type": "stream",
     "text": [
      "SRM\n"
     ]
    }
   ],
   "source": [
    "print(college_name)"
   ]
  },
  {
   "cell_type": "raw",
   "id": "543ee1bc",
   "metadata": {},
   "source": [
    "+ = addition\n",
    "- = sub\n",
    "* = multiplication\n",
    "/ = division\n",
    "// = floor division (return only the Quotient)\n",
    "% =modulo (returns onlyt the remainder)\n",
    "** = returns the power value"
   ]
  },
  {
   "cell_type": "code",
   "execution_count": 8,
   "id": "db1928ac",
   "metadata": {},
   "outputs": [
    {
     "name": "stdout",
     "output_type": "stream",
     "text": [
      "the addition of these two values is = 13 hence the addition\n",
      "the subtraction of these two values is = 7\n",
      "the multiplication of these two values is = 30\n",
      "the division of these two values is = 3.3333333333333335\n",
      "the  floor division of these two values is = 3\n",
      "the modulo division of these two values is = 1\n",
      "the exponential of these two values is = 1000\n"
     ]
    }
   ],
   "source": [
    "a=10\n",
    "b=3\n",
    "print('the addition of these two values is =',a+b,'hence the addition')\n",
    "print('the subtraction of these two values is =',a-b)\n",
    "print('the multiplication of these two values is =',a*b)\n",
    "print('the division of these two values is =',a/b)\n",
    "print('the  floor division of these two values is =',a//b)\n",
    "print('the modulo division of these two values is =',a%b)\n",
    "print('the exponential of these two values is =',a**b)"
   ]
  },
  {
   "cell_type": "code",
   "execution_count": 10,
   "id": "ea45251b",
   "metadata": {},
   "outputs": [
    {
     "name": "stdout",
     "output_type": "stream",
     "text": [
      "13\n",
      "32\n"
     ]
    }
   ],
   "source": [
    "c=a+b\n",
    "print(c)\n",
    "print(2**5) # 2*2*2*2*2"
   ]
  },
  {
   "cell_type": "raw",
   "id": "1c5af53b",
   "metadata": {},
   "source": [
    "<= less than or equal to\n",
    "<  less than\n",
    ">= greater than or equal to\n",
    ">  greater than\n",
    "== equal to\n",
    "!= not equal to"
   ]
  },
  {
   "cell_type": "code",
   "execution_count": 56,
   "id": "60707a49",
   "metadata": {},
   "outputs": [
    {
     "name": "stdout",
     "output_type": "stream",
     "text": [
      "5<10 True\n",
      "5>10 False\n",
      "5<=10 True\n",
      "5>=10 False\n",
      "5==10 False\n",
      "5==5 True\n",
      "5!=10 True\n",
      "sai==sai True\n"
     ]
    }
   ],
   "source": [
    "print('5<10',5<10)\n",
    "print('5>10',5>10)\n",
    "print('5<=10',5<=10)\n",
    "print('5>=10',5>=10)\n",
    "print('5==10',5==10)\n",
    "print('5==5',5==5)\n",
    "print('5!=10',5!=10)\n",
    "print('sai==sai','sai'=='sai')"
   ]
  },
  {
   "cell_type": "code",
   "execution_count": 21,
   "id": "674e5a8f",
   "metadata": {},
   "outputs": [],
   "source": [
    "class maths:\n",
    "    def sum(a,b):\n",
    "        return a+b\n",
    "    def diff(a,b):\n",
    "        return a-b"
   ]
  },
  {
   "cell_type": "code",
   "execution_count": 23,
   "id": "af970100",
   "metadata": {},
   "outputs": [
    {
     "data": {
      "text/plain": [
       "5"
      ]
     },
     "execution_count": 23,
     "metadata": {},
     "output_type": "execute_result"
    }
   ],
   "source": [
    "maths.sum(2,3)"
   ]
  },
  {
   "cell_type": "code",
   "execution_count": 57,
   "id": "f184b99c",
   "metadata": {},
   "outputs": [
    {
     "name": "stderr",
     "output_type": "stream",
     "text": [
      "ERROR: Could not find a version that satisfies the requirement math (from versions: none)\n",
      "ERROR: No matching distribution found for math\n"
     ]
    }
   ],
   "source": [
    "!pip install maths]"
   ]
  },
  {
   "cell_type": "code",
   "execution_count": 1,
   "id": "8f1c766d",
   "metadata": {},
   "outputs": [],
   "source": [
    "import math as m"
   ]
  },
  {
   "cell_type": "code",
   "execution_count": 61,
   "id": "95e43064",
   "metadata": {},
   "outputs": [
    {
     "data": {
      "text/plain": [
       "8.0"
      ]
     },
     "execution_count": 61,
     "metadata": {},
     "output_type": "execute_result"
    }
   ],
   "source": [
    "m.pow(2,3)"
   ]
  },
  {
   "cell_type": "code",
   "execution_count": 2,
   "id": "459c1176",
   "metadata": {},
   "outputs": [],
   "source": [
    "import datetime as dt"
   ]
  },
  {
   "cell_type": "code",
   "execution_count": 3,
   "id": "083e7b25",
   "metadata": {},
   "outputs": [
    {
     "data": {
      "text/plain": [
       "datetime.datetime(2023, 1, 3, 12, 35, 51, 837488)"
      ]
     },
     "execution_count": 3,
     "metadata": {},
     "output_type": "execute_result"
    }
   ],
   "source": [
    "dt.datetime.now()"
   ]
  },
  {
   "cell_type": "code",
   "execution_count": 4,
   "id": "0b099001",
   "metadata": {},
   "outputs": [],
   "source": [
    "import calendar as cl"
   ]
  },
  {
   "cell_type": "code",
   "execution_count": 6,
   "id": "9d45c19f",
   "metadata": {},
   "outputs": [
    {
     "name": "stdout",
     "output_type": "stream",
     "text": [
      "                                  1999\n",
      "\n",
      "      January                   February                   March\n",
      "Mo Tu We Th Fr Sa Su      Mo Tu We Th Fr Sa Su      Mo Tu We Th Fr Sa Su\n",
      "             1  2  3       1  2  3  4  5  6  7       1  2  3  4  5  6  7\n",
      " 4  5  6  7  8  9 10       8  9 10 11 12 13 14       8  9 10 11 12 13 14\n",
      "11 12 13 14 15 16 17      15 16 17 18 19 20 21      15 16 17 18 19 20 21\n",
      "18 19 20 21 22 23 24      22 23 24 25 26 27 28      22 23 24 25 26 27 28\n",
      "25 26 27 28 29 30 31                                29 30 31\n",
      "\n",
      "       April                      May                       June\n",
      "Mo Tu We Th Fr Sa Su      Mo Tu We Th Fr Sa Su      Mo Tu We Th Fr Sa Su\n",
      "          1  2  3  4                      1  2          1  2  3  4  5  6\n",
      " 5  6  7  8  9 10 11       3  4  5  6  7  8  9       7  8  9 10 11 12 13\n",
      "12 13 14 15 16 17 18      10 11 12 13 14 15 16      14 15 16 17 18 19 20\n",
      "19 20 21 22 23 24 25      17 18 19 20 21 22 23      21 22 23 24 25 26 27\n",
      "26 27 28 29 30            24 25 26 27 28 29 30      28 29 30\n",
      "                          31\n",
      "\n",
      "        July                     August                  September\n",
      "Mo Tu We Th Fr Sa Su      Mo Tu We Th Fr Sa Su      Mo Tu We Th Fr Sa Su\n",
      "          1  2  3  4                         1             1  2  3  4  5\n",
      " 5  6  7  8  9 10 11       2  3  4  5  6  7  8       6  7  8  9 10 11 12\n",
      "12 13 14 15 16 17 18       9 10 11 12 13 14 15      13 14 15 16 17 18 19\n",
      "19 20 21 22 23 24 25      16 17 18 19 20 21 22      20 21 22 23 24 25 26\n",
      "26 27 28 29 30 31         23 24 25 26 27 28 29      27 28 29 30\n",
      "                          30 31\n",
      "\n",
      "      October                   November                  December\n",
      "Mo Tu We Th Fr Sa Su      Mo Tu We Th Fr Sa Su      Mo Tu We Th Fr Sa Su\n",
      "             1  2  3       1  2  3  4  5  6  7             1  2  3  4  5\n",
      " 4  5  6  7  8  9 10       8  9 10 11 12 13 14       6  7  8  9 10 11 12\n",
      "11 12 13 14 15 16 17      15 16 17 18 19 20 21      13 14 15 16 17 18 19\n",
      "18 19 20 21 22 23 24      22 23 24 25 26 27 28      20 21 22 23 24 25 26\n",
      "25 26 27 28 29 30 31      29 30                     27 28 29 30 31\n",
      "\n"
     ]
    }
   ],
   "source": [
    "print(cl.calendar(1999))"
   ]
  },
  {
   "cell_type": "code",
   "execution_count": 13,
   "id": "e3c380c2",
   "metadata": {},
   "outputs": [
    {
     "name": "stdout",
     "output_type": "stream",
     "text": [
      "   December 2022\n",
      "Mo Tu We Th Fr Sa Su\n",
      "          1  2  3  4\n",
      " 5  6  7  8  9 10 11\n",
      "12 13 14 15 16 17 18\n",
      "19 20 21 22 23 24 25\n",
      "26 27 28 29 30 31\n",
      "\n"
     ]
    }
   ],
   "source": [
    "print(cl.month(2022,12))"
   ]
  },
  {
   "cell_type": "code",
   "execution_count": 7,
   "id": "d91cf838",
   "metadata": {},
   "outputs": [],
   "source": [
    "name='saiaravind'\n",
    "age=24\n",
    "enaku=111"
   ]
  },
  {
   "cell_type": "code",
   "execution_count": 46,
   "id": "b0e68eda",
   "metadata": {},
   "outputs": [
    {
     "name": "stdout",
     "output_type": "stream",
     "text": [
      "saiaravind\n"
     ]
    }
   ],
   "source": [
    "print(name)"
   ]
  },
  {
   "cell_type": "code",
   "execution_count": 17,
   "id": "54e597dd",
   "metadata": {},
   "outputs": [
    {
     "name": "stdout",
     "output_type": "stream",
     "text": [
      "iam saiaravind\n"
     ]
    }
   ],
   "source": [
    "print('iam',name)"
   ]
  },
  {
   "cell_type": "code",
   "execution_count": 47,
   "id": "f28b9609",
   "metadata": {},
   "outputs": [
    {
     "name": "stdout",
     "output_type": "stream",
     "text": [
      "iam saiaravind iam 24\n"
     ]
    }
   ],
   "source": [
    "print('iam',name,'iam',age)"
   ]
  },
  {
   "cell_type": "code",
   "execution_count": 48,
   "id": "43d4b022",
   "metadata": {},
   "outputs": [
    {
     "name": "stdout",
     "output_type": "stream",
     "text": [
      "ennoda peru saiaravind enaku 24 vayasu aaguthu\n"
     ]
    }
   ],
   "source": [
    "print('ennoda peru',name,'enaku',age,'vayasu aaguthu')"
   ]
  },
  {
   "cell_type": "markdown",
   "id": "dc99fea6",
   "metadata": {},
   "source": [
    "# printing methods"
   ]
  },
  {
   "cell_type": "raw",
   "id": "9253a139",
   "metadata": {},
   "source": [
    "1.f-string format\n",
    "2.%-operator formatting\n",
    "3.(.format) method"
   ]
  },
  {
   "cell_type": "markdown",
   "id": "d4c36b52",
   "metadata": {},
   "source": [
    "## f-string formatting"
   ]
  },
  {
   "cell_type": "code",
   "execution_count": 9,
   "id": "5da40e42",
   "metadata": {},
   "outputs": [
    {
     "name": "stdout",
     "output_type": "stream",
     "text": [
      "ennoda peru saiaravind enaku 24 vayasu aaguthu saiaravind\n"
     ]
    }
   ],
   "source": [
    "print(f'ennoda peru {name} enaku {age} vayasu aaguthu {name}')"
   ]
  },
  {
   "cell_type": "markdown",
   "id": "ec788a97",
   "metadata": {},
   "source": [
    "# %- operator formatting"
   ]
  },
  {
   "cell_type": "code",
   "execution_count": null,
   "id": "53745a65",
   "metadata": {},
   "outputs": [],
   "source": [
    "integer - %d\n",
    "string - %s\n",
    "float -%f\n",
    "boolean -%b"
   ]
  },
  {
   "cell_type": "code",
   "execution_count": 77,
   "id": "a726bff5",
   "metadata": {},
   "outputs": [
    {
     "name": "stdout",
     "output_type": "stream",
     "text": [
      "ennoda peru saiaravind enaku 24 24 vayasu aaguthu\n"
     ]
    }
   ],
   "source": [
    "print('ennoda peru %s enaku %d %d vayasu aaguthu'%(name,age,age))"
   ]
  },
  {
   "cell_type": "code",
   "execution_count": 10,
   "id": "109282a0",
   "metadata": {},
   "outputs": [
    {
     "name": "stdout",
     "output_type": "stream",
     "text": [
      "ennoda peru saiaravind enaku 24 vayasu aaguthu saiaravind      12.26 23 kaashiv\n"
     ]
    }
   ],
   "source": [
    "print('ennoda peru %s enaku %d vayasu aaguthu %s %10.2f %d %s'%(name,age,name,12.256,23,'kaashiv'))"
   ]
  },
  {
   "cell_type": "markdown",
   "id": "0128c017",
   "metadata": {},
   "source": [
    "# (.format) method"
   ]
  },
  {
   "cell_type": "code",
   "execution_count": 9,
   "id": "38c373be",
   "metadata": {},
   "outputs": [
    {
     "name": "stdout",
     "output_type": "stream",
     "text": [
      "hi iam saiaravind and iam 24 iam your python trainer data science saiaravind\n"
     ]
    }
   ],
   "source": [
    "print('hi iam {} and iam {} iam your {} trainer {} {}'.format(name,age,'python','data science',name))"
   ]
  },
  {
   "cell_type": "code",
   "execution_count": 83,
   "id": "0754fe4b",
   "metadata": {},
   "outputs": [
    {
     "name": "stdout",
     "output_type": "stream",
     "text": [
      "hi iam saiaravind and iam 24 iam your python trainer data science saiaravind\n",
      "hi iam saiaravind and iam 24 iam your python trainer data science saiaravind\n",
      "hi iam saiaravind and iam 24 iam your python trainer data science saiaravind\n",
      "hi iam saiaravind and iam 24 iam your python trainer data science saiaravind\n"
     ]
    }
   ],
   "source": [
    "#using index position\n",
    "print('''hi iam {0} and iam {1} iam your {2} trainer {3} {0}\n",
    "hi iam {0} and iam {1} iam your {2} trainer {3} {0}\n",
    "hi iam {0} and iam {1} iam your {2} trainer {3} {0}\n",
    "hi iam {0} and iam {1} iam your {2} trainer {3} {0}'''.format(name,age,'python','data science'))"
   ]
  },
  {
   "cell_type": "markdown",
   "id": "1bd69d3f",
   "metadata": {},
   "source": [
    "## Slicing "
   ]
  },
  {
   "cell_type": "code",
   "execution_count": 85,
   "id": "109cc8fb",
   "metadata": {},
   "outputs": [],
   "source": [
    "a=[1,2,3,4,5,6,7,8,9,10]\n",
    "## 0,1,2,3,4,5,6,7,8,9 ===> index positions"
   ]
  },
  {
   "cell_type": "code",
   "execution_count": 86,
   "id": "40db9a7a",
   "metadata": {},
   "outputs": [
    {
     "name": "stdout",
     "output_type": "stream",
     "text": [
      "[4, 5, 6]\n",
      "[2, 3, 4, 5, 6, 7]\n"
     ]
    }
   ],
   "source": [
    "#listname[starting index : ending index + 1]\n",
    "print(a[3:6])\n",
    "print(a[1:7])"
   ]
  },
  {
   "cell_type": "code",
   "execution_count": 15,
   "id": "98fa199b",
   "metadata": {},
   "outputs": [],
   "source": [
    "b=a[3:6]"
   ]
  },
  {
   "cell_type": "code",
   "execution_count": 16,
   "id": "75008447",
   "metadata": {},
   "outputs": [
    {
     "data": {
      "text/plain": [
       "[4, 5, 6]"
      ]
     },
     "execution_count": 16,
     "metadata": {},
     "output_type": "execute_result"
    }
   ],
   "source": [
    "b"
   ]
  },
  {
   "cell_type": "code",
   "execution_count": 18,
   "id": "be3ba482",
   "metadata": {},
   "outputs": [],
   "source": [
    "b=b+b"
   ]
  },
  {
   "cell_type": "code",
   "execution_count": 19,
   "id": "66a43201",
   "metadata": {},
   "outputs": [
    {
     "data": {
      "text/plain": [
       "[4, 5, 6, 4, 5, 6]"
      ]
     },
     "execution_count": 19,
     "metadata": {},
     "output_type": "execute_result"
    }
   ],
   "source": [
    "b"
   ]
  },
  {
   "cell_type": "code",
   "execution_count": null,
   "id": "b0bcad17",
   "metadata": {},
   "outputs": [],
   "source": [
    "a=[1,2,3,4,5,6,7,8,9,10]\n",
    "## 0,1,2,3,4,5,6,7,8,9 ===> index positions"
   ]
  },
  {
   "cell_type": "markdown",
   "id": "51c433fc",
   "metadata": {},
   "source": [
    "## stepping"
   ]
  },
  {
   "cell_type": "code",
   "execution_count": 20,
   "id": "d2cefc98",
   "metadata": {},
   "outputs": [
    {
     "name": "stdout",
     "output_type": "stream",
     "text": [
      "[2, 4, 6, 8, 10]\n"
     ]
    }
   ],
   "source": [
    "#listname[start index : end index +1 : step count]\n",
    "print(a[1:10:2])"
   ]
  },
  {
   "cell_type": "code",
   "execution_count": 87,
   "id": "ab0be04f",
   "metadata": {},
   "outputs": [
    {
     "data": {
      "text/plain": [
       "[3, 4, 5, 6, 7, 8, 9, 10]"
      ]
     },
     "execution_count": 87,
     "metadata": {},
     "output_type": "execute_result"
    }
   ],
   "source": [
    "a[2:]"
   ]
  },
  {
   "cell_type": "code",
   "execution_count": 21,
   "id": "789e0024",
   "metadata": {},
   "outputs": [
    {
     "data": {
      "text/plain": [
       "[2, 4, 6, 8, 10]"
      ]
     },
     "execution_count": 21,
     "metadata": {},
     "output_type": "execute_result"
    }
   ],
   "source": [
    "a[1::2]"
   ]
  },
  {
   "cell_type": "code",
   "execution_count": 22,
   "id": "68ab4b35",
   "metadata": {},
   "outputs": [
    {
     "data": {
      "text/plain": [
       "[1, 2, 3, 4, 5]"
      ]
     },
     "execution_count": 22,
     "metadata": {},
     "output_type": "execute_result"
    }
   ],
   "source": [
    "a[:5]"
   ]
  },
  {
   "cell_type": "code",
   "execution_count": 25,
   "id": "7debd235",
   "metadata": {},
   "outputs": [
    {
     "data": {
      "text/plain": [
       "[1, 4, 7, 10]"
      ]
     },
     "execution_count": 25,
     "metadata": {},
     "output_type": "execute_result"
    }
   ],
   "source": [
    "a[::3]"
   ]
  },
  {
   "cell_type": "code",
   "execution_count": 26,
   "id": "80256b19",
   "metadata": {},
   "outputs": [
    {
     "data": {
      "text/plain": [
       "[10, 9, 8, 7, 6, 5, 4, 3, 2, 1]"
      ]
     },
     "execution_count": 26,
     "metadata": {},
     "output_type": "execute_result"
    }
   ],
   "source": [
    "a[::-1]"
   ]
  },
  {
   "cell_type": "code",
   "execution_count": 27,
   "id": "fbf39ab5",
   "metadata": {},
   "outputs": [
    {
     "data": {
      "text/plain": [
       "[10, 7, 4, 1]"
      ]
     },
     "execution_count": 27,
     "metadata": {},
     "output_type": "execute_result"
    }
   ],
   "source": [
    "a=[1,2,3,4,5,6,7,8,9,10]\n",
    "a[::-3]"
   ]
  },
  {
   "cell_type": "code",
   "execution_count": 31,
   "id": "2f04be32",
   "metadata": {},
   "outputs": [
    {
     "data": {
      "text/plain": [
       "[]"
      ]
     },
     "execution_count": 31,
     "metadata": {},
     "output_type": "execute_result"
    }
   ],
   "source": [
    "a[-3:3]"
   ]
  },
  {
   "cell_type": "code",
   "execution_count": 32,
   "id": "f67a52ab",
   "metadata": {},
   "outputs": [
    {
     "data": {
      "text/plain": [
       "[7, 6, 5, 4]"
      ]
     },
     "execution_count": 32,
     "metadata": {},
     "output_type": "execute_result"
    }
   ],
   "source": [
    "a[6:2:-1]"
   ]
  },
  {
   "cell_type": "markdown",
   "id": "45abbb8c",
   "metadata": {},
   "source": [
    "## List methods"
   ]
  },
  {
   "cell_type": "code",
   "execution_count": 53,
   "id": "f575c79c",
   "metadata": {},
   "outputs": [
    {
     "name": "stdout",
     "output_type": "stream",
     "text": [
      "[1, 2, 3, 4, 5, 6, 7, 8, 9, 10, 11]\n"
     ]
    }
   ],
   "source": [
    "a=[1,2,3,4,5,6,7,8,9,10]\n",
    "\n",
    "#append() - Adds object to the end of the list.\n",
    "a.append(11)\n",
    "print(a)"
   ]
  },
  {
   "cell_type": "code",
   "execution_count": 36,
   "id": "e33bbca7",
   "metadata": {},
   "outputs": [],
   "source": [
    "a=[1,2,2,2,3,2,4,5,5,1,2,6,7,8,9]"
   ]
  },
  {
   "cell_type": "code",
   "execution_count": 37,
   "id": "6a03a908",
   "metadata": {},
   "outputs": [
    {
     "data": {
      "text/plain": [
       "5"
      ]
     },
     "execution_count": 37,
     "metadata": {},
     "output_type": "execute_result"
    }
   ],
   "source": [
    "a.count(2)"
   ]
  },
  {
   "cell_type": "code",
   "execution_count": 38,
   "id": "8ef0063b",
   "metadata": {},
   "outputs": [
    {
     "data": {
      "text/plain": [
       "1"
      ]
     },
     "execution_count": 38,
     "metadata": {},
     "output_type": "execute_result"
    }
   ],
   "source": [
    "a.count(9)"
   ]
  },
  {
   "cell_type": "code",
   "execution_count": 90,
   "id": "301de5bb",
   "metadata": {},
   "outputs": [],
   "source": [
    "b=[-2,-1,0]"
   ]
  },
  {
   "cell_type": "code",
   "execution_count": 91,
   "id": "6aeed18d",
   "metadata": {},
   "outputs": [],
   "source": [
    "b.extend(a)"
   ]
  },
  {
   "cell_type": "code",
   "execution_count": 92,
   "id": "1bc4534a",
   "metadata": {},
   "outputs": [
    {
     "data": {
      "text/plain": [
       "[-2, -1, 0, 1, 2, 3, 4, 5, 6, 7, 8, 9, 10, 11]"
      ]
     },
     "execution_count": 92,
     "metadata": {},
     "output_type": "execute_result"
    }
   ],
   "source": [
    "b"
   ]
  },
  {
   "cell_type": "code",
   "execution_count": 42,
   "id": "7d5f1c0f",
   "metadata": {},
   "outputs": [],
   "source": [
    "b=b+a"
   ]
  },
  {
   "cell_type": "code",
   "execution_count": 43,
   "id": "035fd425",
   "metadata": {},
   "outputs": [
    {
     "data": {
      "text/plain": [
       "[-2,\n",
       " -1,\n",
       " 0,\n",
       " 1,\n",
       " 2,\n",
       " 2,\n",
       " 2,\n",
       " 3,\n",
       " 2,\n",
       " 4,\n",
       " 5,\n",
       " 5,\n",
       " 1,\n",
       " 2,\n",
       " 6,\n",
       " 7,\n",
       " 8,\n",
       " 9,\n",
       " 1,\n",
       " 2,\n",
       " 2,\n",
       " 2,\n",
       " 3,\n",
       " 2,\n",
       " 4,\n",
       " 5,\n",
       " 5,\n",
       " 1,\n",
       " 2,\n",
       " 6,\n",
       " 7,\n",
       " 8,\n",
       " 9]"
      ]
     },
     "execution_count": 43,
     "metadata": {},
     "output_type": "execute_result"
    }
   ],
   "source": [
    "b"
   ]
  },
  {
   "cell_type": "code",
   "execution_count": 93,
   "id": "bc13e121",
   "metadata": {},
   "outputs": [
    {
     "data": {
      "text/plain": [
       "3"
      ]
     },
     "execution_count": 93,
     "metadata": {},
     "output_type": "execute_result"
    }
   ],
   "source": [
    "a.index(4)"
   ]
  },
  {
   "cell_type": "code",
   "execution_count": 95,
   "id": "c4d87821",
   "metadata": {},
   "outputs": [
    {
     "name": "stdout",
     "output_type": "stream",
     "text": [
      "[1, 2, 3, 4, 5, 6, 7, 8]\n"
     ]
    }
   ],
   "source": [
    "a=[1,2,3,5,6,7,8]\n",
    "a.insert(3,4)\n",
    "print(a)"
   ]
  },
  {
   "cell_type": "code",
   "execution_count": 50,
   "id": "3d84ba28",
   "metadata": {},
   "outputs": [
    {
     "data": {
      "text/plain": [
       "3"
      ]
     },
     "execution_count": 50,
     "metadata": {},
     "output_type": "execute_result"
    }
   ],
   "source": [
    "a.pop(2)"
   ]
  },
  {
   "cell_type": "code",
   "execution_count": 51,
   "id": "1064095a",
   "metadata": {},
   "outputs": [
    {
     "data": {
      "text/plain": [
       "[1, 2, 4, 5, 6, 7, 8]"
      ]
     },
     "execution_count": 51,
     "metadata": {},
     "output_type": "execute_result"
    }
   ],
   "source": [
    "a"
   ]
  },
  {
   "cell_type": "code",
   "execution_count": 52,
   "id": "ae98a3c9",
   "metadata": {},
   "outputs": [],
   "source": [
    "a.remove(2)\n"
   ]
  },
  {
   "cell_type": "code",
   "execution_count": 53,
   "id": "f275e0f2",
   "metadata": {},
   "outputs": [
    {
     "data": {
      "text/plain": [
       "[1, 4, 5, 6, 7, 8]"
      ]
     },
     "execution_count": 53,
     "metadata": {},
     "output_type": "execute_result"
    }
   ],
   "source": [
    "a"
   ]
  },
  {
   "cell_type": "code",
   "execution_count": 54,
   "id": "3f3833d0",
   "metadata": {},
   "outputs": [],
   "source": [
    "del a[3]"
   ]
  },
  {
   "cell_type": "code",
   "execution_count": 55,
   "id": "a16ae864",
   "metadata": {},
   "outputs": [
    {
     "data": {
      "text/plain": [
       "[1, 4, 5, 7, 8]"
      ]
     },
     "execution_count": 55,
     "metadata": {},
     "output_type": "execute_result"
    }
   ],
   "source": [
    "a"
   ]
  },
  {
   "cell_type": "code",
   "execution_count": 56,
   "id": "0fba9b29",
   "metadata": {},
   "outputs": [],
   "source": [
    "del a[1:4]"
   ]
  },
  {
   "cell_type": "code",
   "execution_count": 57,
   "id": "88a664ea",
   "metadata": {},
   "outputs": [
    {
     "data": {
      "text/plain": [
       "[1, 8]"
      ]
     },
     "execution_count": 57,
     "metadata": {},
     "output_type": "execute_result"
    }
   ],
   "source": [
    "a"
   ]
  },
  {
   "cell_type": "code",
   "execution_count": 60,
   "id": "c32c2ce5",
   "metadata": {},
   "outputs": [
    {
     "name": "stdout",
     "output_type": "stream",
     "text": [
      "None\n"
     ]
    }
   ],
   "source": [
    "a=[1,2,3,4,5,6]\n",
    "a.reverse()"
   ]
  },
  {
   "cell_type": "code",
   "execution_count": 59,
   "id": "7588edd7",
   "metadata": {},
   "outputs": [
    {
     "data": {
      "text/plain": [
       "[6, 5, 4, 3, 2, 1]"
      ]
     },
     "execution_count": 59,
     "metadata": {},
     "output_type": "execute_result"
    }
   ],
   "source": [
    "a"
   ]
  },
  {
   "cell_type": "code",
   "execution_count": 61,
   "id": "044d5b05",
   "metadata": {},
   "outputs": [],
   "source": [
    "a=[3,4,5,1,2,9,8,7,6]"
   ]
  },
  {
   "cell_type": "code",
   "execution_count": 98,
   "id": "63862d13",
   "metadata": {},
   "outputs": [],
   "source": [
    "a.sort(reverse=True)"
   ]
  },
  {
   "cell_type": "code",
   "execution_count": 99,
   "id": "a3c98956",
   "metadata": {},
   "outputs": [
    {
     "data": {
      "text/plain": [
       "[8, 7, 6, 5, 4, 3, 2, 1]"
      ]
     },
     "execution_count": 99,
     "metadata": {},
     "output_type": "execute_result"
    }
   ],
   "source": [
    "a"
   ]
  },
  {
   "cell_type": "code",
   "execution_count": 66,
   "id": "929dcbcc",
   "metadata": {},
   "outputs": [],
   "source": [
    "a=[1,1,2,2,3,4,4,5,5,5,5,5,6,7,8,9,10]"
   ]
  },
  {
   "cell_type": "code",
   "execution_count": 67,
   "id": "d66f290b",
   "metadata": {},
   "outputs": [],
   "source": [
    "a=list(set(a))"
   ]
  },
  {
   "cell_type": "code",
   "execution_count": 68,
   "id": "def745ed",
   "metadata": {},
   "outputs": [
    {
     "data": {
      "text/plain": [
       "[1, 2, 3, 4, 5, 6, 7, 8, 9, 10]"
      ]
     },
     "execution_count": 68,
     "metadata": {},
     "output_type": "execute_result"
    }
   ],
   "source": [
    "a"
   ]
  },
  {
   "cell_type": "code",
   "execution_count": 69,
   "id": "1b72337f",
   "metadata": {},
   "outputs": [
    {
     "data": {
      "text/plain": [
       "{1, 2, 3, 4, 5, 6, 7, 8, 9, 10}"
      ]
     },
     "execution_count": 69,
     "metadata": {},
     "output_type": "execute_result"
    }
   ],
   "source": [
    "{1,2,3,4,5,6,7,8,9,10}"
   ]
  },
  {
   "cell_type": "code",
   "execution_count": null,
   "id": "a2f809b2",
   "metadata": {},
   "outputs": [],
   "source": [
    "set(a)={1, 2, 3, 4, 5, 6, 7, 8, 9, 10}"
   ]
  },
  {
   "cell_type": "code",
   "execution_count": null,
   "id": "0151d931",
   "metadata": {},
   "outputs": [],
   "source": [
    "list(set(a))"
   ]
  },
  {
   "cell_type": "code",
   "execution_count": 1,
   "id": "16c3531b",
   "metadata": {},
   "outputs": [
    {
     "data": {
      "text/plain": [
       "'C:\\\\Users\\\\Kaashiv Infotech\\\\sai files\\\\Data Science\\\\Python exe'"
      ]
     },
     "execution_count": 1,
     "metadata": {},
     "output_type": "execute_result"
    }
   ],
   "source": [
    "pwd"
   ]
  },
  {
   "cell_type": "markdown",
   "id": "283ec130",
   "metadata": {},
   "source": [
    "## Type casting"
   ]
  },
  {
   "cell_type": "raw",
   "id": "0d75ca8a",
   "metadata": {},
   "source": [
    "int==>float() or str()==>1==>1.0 or '1'\n",
    "        "
   ]
  },
  {
   "cell_type": "code",
   "execution_count": 1,
   "id": "ac0852db",
   "metadata": {},
   "outputs": [
    {
     "data": {
      "text/plain": [
       "10.0"
      ]
     },
     "execution_count": 1,
     "metadata": {},
     "output_type": "execute_result"
    }
   ],
   "source": [
    "a=10\n",
    "float(a)"
   ]
  },
  {
   "cell_type": "code",
   "execution_count": 3,
   "id": "82a6d39d",
   "metadata": {},
   "outputs": [],
   "source": [
    "b=str(a)"
   ]
  },
  {
   "cell_type": "code",
   "execution_count": 4,
   "id": "e08d4ff5",
   "metadata": {},
   "outputs": [
    {
     "data": {
      "text/plain": [
       "'10101010101010101010'"
      ]
     },
     "execution_count": 4,
     "metadata": {},
     "output_type": "execute_result"
    }
   ],
   "source": [
    "b*10"
   ]
  },
  {
   "cell_type": "raw",
   "id": "ddfebee2",
   "metadata": {},
   "source": [
    "float ==> int() or str() ==> 2.65 ==> 2 or '2.65'"
   ]
  },
  {
   "cell_type": "code",
   "execution_count": 5,
   "id": "2fec9e88",
   "metadata": {},
   "outputs": [],
   "source": [
    "a=2.65787"
   ]
  },
  {
   "cell_type": "code",
   "execution_count": 6,
   "id": "9d5fe1b7",
   "metadata": {},
   "outputs": [
    {
     "data": {
      "text/plain": [
       "2"
      ]
     },
     "execution_count": 6,
     "metadata": {},
     "output_type": "execute_result"
    }
   ],
   "source": [
    "int(a)"
   ]
  },
  {
   "cell_type": "code",
   "execution_count": 7,
   "id": "f1366f2b",
   "metadata": {},
   "outputs": [
    {
     "data": {
      "text/plain": [
       "'2.65787'"
      ]
     },
     "execution_count": 7,
     "metadata": {},
     "output_type": "execute_result"
    }
   ],
   "source": [
    "str(a)"
   ]
  },
  {
   "cell_type": "raw",
   "id": "cc569cde",
   "metadata": {},
   "source": [
    "str ==> int() only if there is a number\n",
    "        float() only if there is a decimal\n",
    "        "
   ]
  },
  {
   "cell_type": "code",
   "execution_count": 8,
   "id": "4eb4b930",
   "metadata": {},
   "outputs": [],
   "source": [
    "a='10'"
   ]
  },
  {
   "cell_type": "code",
   "execution_count": 9,
   "id": "640abc86",
   "metadata": {},
   "outputs": [
    {
     "data": {
      "text/plain": [
       "10"
      ]
     },
     "execution_count": 9,
     "metadata": {},
     "output_type": "execute_result"
    }
   ],
   "source": [
    "int(a)"
   ]
  },
  {
   "cell_type": "code",
   "execution_count": 11,
   "id": "3c39a897",
   "metadata": {},
   "outputs": [
    {
     "data": {
      "text/plain": [
       "10.0"
      ]
     },
     "execution_count": 11,
     "metadata": {},
     "output_type": "execute_result"
    }
   ],
   "source": [
    "float(a)"
   ]
  },
  {
   "cell_type": "code",
   "execution_count": 12,
   "id": "f8838f79",
   "metadata": {},
   "outputs": [
    {
     "data": {
      "text/plain": [
       "10.0"
      ]
     },
     "execution_count": 12,
     "metadata": {},
     "output_type": "execute_result"
    }
   ],
   "source": [
    "float(int(a))"
   ]
  },
  {
   "cell_type": "code",
   "execution_count": 13,
   "id": "ecec0420",
   "metadata": {},
   "outputs": [],
   "source": [
    "b='python'"
   ]
  },
  {
   "cell_type": "code",
   "execution_count": 14,
   "id": "1ef043f6",
   "metadata": {},
   "outputs": [
    {
     "ename": "ValueError",
     "evalue": "invalid literal for int() with base 10: 'python'",
     "output_type": "error",
     "traceback": [
      "\u001b[1;31m---------------------------------------------------------------------------\u001b[0m",
      "\u001b[1;31mValueError\u001b[0m                                Traceback (most recent call last)",
      "\u001b[1;32mC:\\Users\\KAASHI~1\\AppData\\Local\\Temp/ipykernel_1832/3956108814.py\u001b[0m in \u001b[0;36m<module>\u001b[1;34m\u001b[0m\n\u001b[1;32m----> 1\u001b[1;33m \u001b[0mint\u001b[0m\u001b[1;33m(\u001b[0m\u001b[0mb\u001b[0m\u001b[1;33m)\u001b[0m\u001b[1;33m\u001b[0m\u001b[1;33m\u001b[0m\u001b[0m\n\u001b[0m",
      "\u001b[1;31mValueError\u001b[0m: invalid literal for int() with base 10: 'python'"
     ]
    }
   ],
   "source": [
    "int(b)"
   ]
  },
  {
   "cell_type": "raw",
   "id": "509c9765",
   "metadata": {},
   "source": [
    "list ==> tuple() or set() or dict()\n",
    "         list to tuple [1,2,3]==>(1,2,3)\n",
    "         list to set [1,2,3,3,4,4]==>{1,2,3,4}\n",
    "         list to dict [[1,2],[2,3],[3,4]]==>{1:2,2:3,3:4}"
   ]
  },
  {
   "cell_type": "code",
   "execution_count": 15,
   "id": "733a95db",
   "metadata": {},
   "outputs": [],
   "source": [
    "a=[1,2,3,4,5]"
   ]
  },
  {
   "cell_type": "code",
   "execution_count": 16,
   "id": "24551239",
   "metadata": {},
   "outputs": [
    {
     "data": {
      "text/plain": [
       "(1, 2, 3, 4, 5)"
      ]
     },
     "execution_count": 16,
     "metadata": {},
     "output_type": "execute_result"
    }
   ],
   "source": [
    "tuple(a)"
   ]
  },
  {
   "cell_type": "code",
   "execution_count": 17,
   "id": "0cf58996",
   "metadata": {},
   "outputs": [],
   "source": [
    "a=[1,2,2,3,3,4,5]"
   ]
  },
  {
   "cell_type": "code",
   "execution_count": 18,
   "id": "e3a6c6c4",
   "metadata": {},
   "outputs": [
    {
     "data": {
      "text/plain": [
       "{1, 2, 3, 4, 5}"
      ]
     },
     "execution_count": 18,
     "metadata": {},
     "output_type": "execute_result"
    }
   ],
   "source": [
    "set(a)"
   ]
  },
  {
   "cell_type": "code",
   "execution_count": 19,
   "id": "b4d7bed7",
   "metadata": {},
   "outputs": [],
   "source": [
    "a=[1,2,3,4,4,4,5,5,5,6,6,7,8,8]\n",
    "b=list(set(a))"
   ]
  },
  {
   "cell_type": "code",
   "execution_count": 20,
   "id": "c7db270f",
   "metadata": {},
   "outputs": [
    {
     "data": {
      "text/plain": [
       "[1, 2, 3, 4, 5, 6, 7, 8]"
      ]
     },
     "execution_count": 20,
     "metadata": {},
     "output_type": "execute_result"
    }
   ],
   "source": [
    "b"
   ]
  },
  {
   "cell_type": "code",
   "execution_count": 21,
   "id": "bf93a4da",
   "metadata": {},
   "outputs": [],
   "source": [
    "a=[[1,2],['s',3],['i',7]]"
   ]
  },
  {
   "cell_type": "code",
   "execution_count": 22,
   "id": "d1bbe7e9",
   "metadata": {},
   "outputs": [
    {
     "data": {
      "text/plain": [
       "{1: 2, 's': 3, 'i': 7}"
      ]
     },
     "execution_count": 22,
     "metadata": {},
     "output_type": "execute_result"
    }
   ],
   "source": [
    "dict(a)"
   ]
  },
  {
   "cell_type": "code",
   "execution_count": 23,
   "id": "ea1ff9d8",
   "metadata": {},
   "outputs": [],
   "source": [
    "a=[(1,2),('s',3),('i',7)]"
   ]
  },
  {
   "cell_type": "code",
   "execution_count": 24,
   "id": "25a8e8f4",
   "metadata": {},
   "outputs": [
    {
     "data": {
      "text/plain": [
       "{1: 2, 's': 3, 'i': 7}"
      ]
     },
     "execution_count": 24,
     "metadata": {},
     "output_type": "execute_result"
    }
   ],
   "source": [
    "dict(a)"
   ]
  },
  {
   "cell_type": "code",
   "execution_count": 25,
   "id": "43482cba",
   "metadata": {},
   "outputs": [],
   "source": [
    "a=[1,2,3,4,5,6]"
   ]
  },
  {
   "cell_type": "code",
   "execution_count": 26,
   "id": "88c1522d",
   "metadata": {},
   "outputs": [
    {
     "ename": "TypeError",
     "evalue": "cannot convert dictionary update sequence element #0 to a sequence",
     "output_type": "error",
     "traceback": [
      "\u001b[1;31m---------------------------------------------------------------------------\u001b[0m",
      "\u001b[1;31mTypeError\u001b[0m                                 Traceback (most recent call last)",
      "\u001b[1;32mC:\\Users\\KAASHI~1\\AppData\\Local\\Temp/ipykernel_1832/2506679463.py\u001b[0m in \u001b[0;36m<module>\u001b[1;34m\u001b[0m\n\u001b[1;32m----> 1\u001b[1;33m \u001b[0mdict\u001b[0m\u001b[1;33m(\u001b[0m\u001b[0ma\u001b[0m\u001b[1;33m)\u001b[0m\u001b[1;33m\u001b[0m\u001b[1;33m\u001b[0m\u001b[0m\n\u001b[0m",
      "\u001b[1;31mTypeError\u001b[0m: cannot convert dictionary update sequence element #0 to a sequence"
     ]
    }
   ],
   "source": [
    "dict(a)"
   ]
  },
  {
   "cell_type": "raw",
   "id": "8f05049d",
   "metadata": {},
   "source": [
    "tuple==> list() or set() or dict()"
   ]
  },
  {
   "cell_type": "raw",
   "id": "e78844f8",
   "metadata": {},
   "source": [
    "set==> list() or tuple() or dict()"
   ]
  },
  {
   "cell_type": "raw",
   "id": "e9b4a21a",
   "metadata": {},
   "source": [
    "dict ==> list() or tuple() or set()\n",
    "        ==>{1:2,2:3,3:4}==>list()==>[1,2,3]\n",
    "        ==>             ==>tuple()==>(1,2,3)\n",
    "                        ==>set() ==> {1,2,3}\n",
    "            "
   ]
  },
  {
   "cell_type": "code",
   "execution_count": 27,
   "id": "870308d5",
   "metadata": {},
   "outputs": [],
   "source": [
    "a={1:2,2:3,3:4}"
   ]
  },
  {
   "cell_type": "code",
   "execution_count": 28,
   "id": "ee77d1b2",
   "metadata": {},
   "outputs": [
    {
     "data": {
      "text/plain": [
       "[1, 2, 3]"
      ]
     },
     "execution_count": 28,
     "metadata": {},
     "output_type": "execute_result"
    }
   ],
   "source": [
    "list(a)"
   ]
  },
  {
   "cell_type": "code",
   "execution_count": 29,
   "id": "ab010bcd",
   "metadata": {},
   "outputs": [
    {
     "data": {
      "text/plain": [
       "[2, 3, 4]"
      ]
     },
     "execution_count": 29,
     "metadata": {},
     "output_type": "execute_result"
    }
   ],
   "source": [
    "list(a.values())"
   ]
  },
  {
   "cell_type": "code",
   "execution_count": 30,
   "id": "fc9f1448",
   "metadata": {},
   "outputs": [
    {
     "data": {
      "text/plain": [
       "[(1, 2), (2, 3), (3, 4)]"
      ]
     },
     "execution_count": 30,
     "metadata": {},
     "output_type": "execute_result"
    }
   ],
   "source": [
    "list(a.items())"
   ]
  },
  {
   "cell_type": "code",
   "execution_count": 31,
   "id": "a2171e76",
   "metadata": {},
   "outputs": [],
   "source": [
    "a='saiarvindhakshan selvam'"
   ]
  },
  {
   "cell_type": "code",
   "execution_count": 33,
   "id": "3f9415df",
   "metadata": {},
   "outputs": [
    {
     "data": {
      "text/plain": [
       "'arvindhakshan'"
      ]
     },
     "execution_count": 33,
     "metadata": {},
     "output_type": "execute_result"
    }
   ],
   "source": [
    "a[3:-7]"
   ]
  },
  {
   "cell_type": "code",
   "execution_count": 34,
   "id": "02c39bd3",
   "metadata": {},
   "outputs": [],
   "source": [
    "sai={'fn':'saiarvindhakshan','ln':'selvam'}"
   ]
  },
  {
   "cell_type": "code",
   "execution_count": 35,
   "id": "6369a099",
   "metadata": {},
   "outputs": [
    {
     "data": {
      "text/plain": [
       "'saiarvindhakshan'"
      ]
     },
     "execution_count": 35,
     "metadata": {},
     "output_type": "execute_result"
    }
   ],
   "source": [
    "sai['fn']"
   ]
  },
  {
   "cell_type": "code",
   "execution_count": 36,
   "id": "17ec6886",
   "metadata": {},
   "outputs": [
    {
     "data": {
      "text/plain": [
       "'selvam'"
      ]
     },
     "execution_count": 36,
     "metadata": {},
     "output_type": "execute_result"
    }
   ],
   "source": [
    "sai['ln']"
   ]
  },
  {
   "cell_type": "code",
   "execution_count": 37,
   "id": "58905eba",
   "metadata": {},
   "outputs": [],
   "source": [
    "a=[1,2,3,4,5,6]"
   ]
  },
  {
   "cell_type": "code",
   "execution_count": 38,
   "id": "0bc5e922",
   "metadata": {},
   "outputs": [
    {
     "data": {
      "text/plain": [
       "3"
      ]
     },
     "execution_count": 38,
     "metadata": {},
     "output_type": "execute_result"
    }
   ],
   "source": [
    "a[2]"
   ]
  },
  {
   "cell_type": "code",
   "execution_count": 39,
   "id": "bb26822d",
   "metadata": {},
   "outputs": [
    {
     "name": "stdout",
     "output_type": "stream",
     "text": [
      "3\n"
     ]
    }
   ],
   "source": [
    "print(a[2])"
   ]
  },
  {
   "cell_type": "code",
   "execution_count": 40,
   "id": "9557a36e",
   "metadata": {},
   "outputs": [
    {
     "name": "stdout",
     "output_type": "stream",
     "text": [
      "[3, 4]\n"
     ]
    }
   ],
   "source": [
    "print(a[2:4])"
   ]
  },
  {
   "cell_type": "code",
   "execution_count": 41,
   "id": "750eab28",
   "metadata": {},
   "outputs": [],
   "source": [
    "a[2]=30"
   ]
  },
  {
   "cell_type": "code",
   "execution_count": 42,
   "id": "f408a617",
   "metadata": {},
   "outputs": [
    {
     "data": {
      "text/plain": [
       "[1, 2, 30, 4, 5, 6]"
      ]
     },
     "execution_count": 42,
     "metadata": {},
     "output_type": "execute_result"
    }
   ],
   "source": [
    "a"
   ]
  },
  {
   "cell_type": "code",
   "execution_count": 43,
   "id": "95562721",
   "metadata": {
    "scrolled": true
   },
   "outputs": [
    {
     "ename": "TypeError",
     "evalue": "'tuple' object does not support item assignment",
     "output_type": "error",
     "traceback": [
      "\u001b[1;31m---------------------------------------------------------------------------\u001b[0m",
      "\u001b[1;31mTypeError\u001b[0m                                 Traceback (most recent call last)",
      "\u001b[1;32mC:\\Users\\KAASHI~1\\AppData\\Local\\Temp/ipykernel_1832/2029358134.py\u001b[0m in \u001b[0;36m<module>\u001b[1;34m\u001b[0m\n\u001b[0;32m      1\u001b[0m \u001b[0ma\u001b[0m\u001b[1;33m=\u001b[0m\u001b[1;33m(\u001b[0m\u001b[1;36m1\u001b[0m\u001b[1;33m,\u001b[0m\u001b[1;36m2\u001b[0m\u001b[1;33m,\u001b[0m\u001b[1;36m3\u001b[0m\u001b[1;33m)\u001b[0m\u001b[1;33m\u001b[0m\u001b[1;33m\u001b[0m\u001b[0m\n\u001b[1;32m----> 2\u001b[1;33m \u001b[0ma\u001b[0m\u001b[1;33m[\u001b[0m\u001b[1;36m2\u001b[0m\u001b[1;33m]\u001b[0m\u001b[1;33m=\u001b[0m\u001b[1;36m3\u001b[0m\u001b[1;33m\u001b[0m\u001b[1;33m\u001b[0m\u001b[0m\n\u001b[0m",
      "\u001b[1;31mTypeError\u001b[0m: 'tuple' object does not support item assignment"
     ]
    }
   ],
   "source": [
    "a=(1,2,3)\n",
    "a[2]=3"
   ]
  },
  {
   "cell_type": "code",
   "execution_count": 44,
   "id": "52a3b022",
   "metadata": {},
   "outputs": [
    {
     "data": {
      "text/plain": [
       "2"
      ]
     },
     "execution_count": 44,
     "metadata": {},
     "output_type": "execute_result"
    }
   ],
   "source": [
    "a={1:2,2:3,3:4}\n",
    "a[1]"
   ]
  },
  {
   "cell_type": "code",
   "execution_count": 45,
   "id": "0327a41b",
   "metadata": {},
   "outputs": [],
   "source": [
    "a[1]=33"
   ]
  },
  {
   "cell_type": "code",
   "execution_count": 46,
   "id": "033cf089",
   "metadata": {},
   "outputs": [
    {
     "data": {
      "text/plain": [
       "{1: 33, 2: 3, 3: 4}"
      ]
     },
     "execution_count": 46,
     "metadata": {},
     "output_type": "execute_result"
    }
   ],
   "source": [
    "a"
   ]
  },
  {
   "cell_type": "code",
   "execution_count": 47,
   "id": "01afdea4",
   "metadata": {},
   "outputs": [],
   "source": [
    "a['s']=11"
   ]
  },
  {
   "cell_type": "code",
   "execution_count": 48,
   "id": "ddc2b84b",
   "metadata": {},
   "outputs": [
    {
     "data": {
      "text/plain": [
       "{1: 33, 2: 3, 3: 4, 's': 11}"
      ]
     },
     "execution_count": 48,
     "metadata": {},
     "output_type": "execute_result"
    }
   ],
   "source": [
    "a"
   ]
  },
  {
   "cell_type": "code",
   "execution_count": 49,
   "id": "9783b92e",
   "metadata": {},
   "outputs": [],
   "source": [
    "del a[3]"
   ]
  },
  {
   "cell_type": "code",
   "execution_count": 50,
   "id": "69725c7e",
   "metadata": {
    "scrolled": true
   },
   "outputs": [
    {
     "data": {
      "text/plain": [
       "{1: 33, 2: 3, 's': 11}"
      ]
     },
     "execution_count": 50,
     "metadata": {},
     "output_type": "execute_result"
    }
   ],
   "source": [
    "a"
   ]
  },
  {
   "cell_type": "code",
   "execution_count": 1,
   "id": "56c791c2",
   "metadata": {},
   "outputs": [
    {
     "name": "stdout",
     "output_type": "stream",
     "text": [
      "Requirement already satisfied: sklearn in c:\\users\\kaashiv infotech\\anaconda3\\lib\\site-packages (0.0.post1)\n"
     ]
    }
   ],
   "source": [
    "!pip install sklearn"
   ]
  },
  {
   "cell_type": "markdown",
   "id": "ea55a006",
   "metadata": {},
   "source": [
    "# Python functions"
   ]
  },
  {
   "cell_type": "code",
   "execution_count": 2,
   "id": "18cc6ce9",
   "metadata": {},
   "outputs": [
    {
     "name": "stdout",
     "output_type": "stream",
     "text": [
      "30\n"
     ]
    }
   ],
   "source": [
    "a=10\n",
    "b=20\n",
    "c=a+b\n",
    "print(c)"
   ]
  },
  {
   "cell_type": "code",
   "execution_count": 5,
   "id": "65158e9a",
   "metadata": {},
   "outputs": [],
   "source": [
    "def add():\n",
    "    a=10\n",
    "    b=20\n",
    "    c=a+b\n",
    "    print(c)"
   ]
  },
  {
   "cell_type": "code",
   "execution_count": 6,
   "id": "ad118942",
   "metadata": {},
   "outputs": [
    {
     "name": "stdout",
     "output_type": "stream",
     "text": [
      "30\n"
     ]
    }
   ],
   "source": [
    "add()"
   ]
  },
  {
   "cell_type": "code",
   "execution_count": 7,
   "id": "5d6338ce",
   "metadata": {},
   "outputs": [
    {
     "name": "stdout",
     "output_type": "stream",
     "text": [
      "30\n"
     ]
    }
   ],
   "source": [
    "add()"
   ]
  },
  {
   "cell_type": "code",
   "execution_count": 41,
   "id": "87367f8e",
   "metadata": {},
   "outputs": [],
   "source": [
    "def add():\n",
    "    a=int(input('Enter first number to add : '))\n",
    "    b=int(input('Enter second number to add : '))\n",
    "    c=a+b\n",
    "    print(f'the addition of {a} and {b} is ',c)"
   ]
  },
  {
   "cell_type": "code",
   "execution_count": 42,
   "id": "18dc32f7",
   "metadata": {},
   "outputs": [
    {
     "name": "stdout",
     "output_type": "stream",
     "text": [
      "Enter first number to add : 12\n",
      "Enter second number to add : 13\n",
      "the addition of 12 and 13 is  25\n"
     ]
    }
   ],
   "source": [
    "add()"
   ]
  },
  {
   "cell_type": "code",
   "execution_count": 43,
   "id": "78a0add0",
   "metadata": {},
   "outputs": [
    {
     "name": "stdout",
     "output_type": "stream",
     "text": [
      "Enter first number to add : 11\n",
      "Enter second number to add : 12\n",
      "the addition of 11 and 12 is  23\n"
     ]
    }
   ],
   "source": [
    "add()"
   ]
  },
  {
   "cell_type": "code",
   "execution_count": 44,
   "id": "477aa4f7",
   "metadata": {},
   "outputs": [],
   "source": [
    "def add(a,b):\n",
    "    '''this function adds the given two values'''\n",
    "    return a+b"
   ]
  },
  {
   "cell_type": "code",
   "execution_count": 22,
   "id": "2819cd82",
   "metadata": {},
   "outputs": [
    {
     "name": "stdout",
     "output_type": "stream",
     "text": [
      "ab\n"
     ]
    }
   ],
   "source": [
    "add('a','b')"
   ]
  },
  {
   "cell_type": "code",
   "execution_count": 45,
   "id": "46dc1e80",
   "metadata": {},
   "outputs": [
    {
     "data": {
      "text/plain": [
       "3"
      ]
     },
     "execution_count": 45,
     "metadata": {},
     "output_type": "execute_result"
    }
   ],
   "source": [
    "add(1,2)"
   ]
  },
  {
   "cell_type": "code",
   "execution_count": 31,
   "id": "431c88c2",
   "metadata": {},
   "outputs": [
    {
     "name": "stdout",
     "output_type": "stream",
     "text": [
      "50\n"
     ]
    }
   ],
   "source": [
    "add_20_30=add(20,30)"
   ]
  },
  {
   "cell_type": "code",
   "execution_count": 32,
   "id": "1c97b1c9",
   "metadata": {},
   "outputs": [
    {
     "name": "stdout",
     "output_type": "stream",
     "text": [
      "50\n"
     ]
    }
   ],
   "source": [
    "print(add_20_30)"
   ]
  },
  {
   "cell_type": "code",
   "execution_count": 33,
   "id": "91a99d4f",
   "metadata": {},
   "outputs": [
    {
     "data": {
      "text/plain": [
       "500"
      ]
     },
     "execution_count": 33,
     "metadata": {},
     "output_type": "execute_result"
    }
   ],
   "source": [
    "add_20_30*10"
   ]
  },
  {
   "cell_type": "code",
   "execution_count": 36,
   "id": "9d326d54",
   "metadata": {},
   "outputs": [],
   "source": [
    "add_1110_100=add(1110,100)"
   ]
  },
  {
   "cell_type": "code",
   "execution_count": 38,
   "id": "2eddc16a",
   "metadata": {},
   "outputs": [
    {
     "data": {
      "text/plain": [
       "1210"
      ]
     },
     "execution_count": 38,
     "metadata": {},
     "output_type": "execute_result"
    }
   ],
   "source": [
    "add_1110_100"
   ]
  },
  {
   "cell_type": "markdown",
   "id": "0cb01cf9",
   "metadata": {},
   "source": [
    "# If condition"
   ]
  },
  {
   "cell_type": "raw",
   "id": "575f7383",
   "metadata": {},
   "source": [
    "if \n",
    "if else\n",
    "if elif else"
   ]
  },
  {
   "cell_type": "code",
   "execution_count": 40,
   "id": "bfdc957c",
   "metadata": {},
   "outputs": [
    {
     "name": "stdout",
     "output_type": "stream",
     "text": [
      "Yes,they are same\n"
     ]
    }
   ],
   "source": [
    "name='sai'\n",
    "if name=='sai':\n",
    "    print('Yes,they are same')"
   ]
  },
  {
   "cell_type": "code",
   "execution_count": 46,
   "id": "896ced4d",
   "metadata": {},
   "outputs": [],
   "source": [
    "def eligibility():   \n",
    "    age=int(input('enter your age : '))\n",
    "    if age>=18:\n",
    "        print('You are eligible to vote')\n",
    "    else:\n",
    "        print('Not eligible')"
   ]
  },
  {
   "cell_type": "code",
   "execution_count": 47,
   "id": "f8cbdf12",
   "metadata": {},
   "outputs": [
    {
     "name": "stdout",
     "output_type": "stream",
     "text": [
      "enter your age : 12\n",
      "Not eligible\n"
     ]
    }
   ],
   "source": [
    "eligibility()"
   ]
  },
  {
   "cell_type": "code",
   "execution_count": 48,
   "id": "02cb2d54",
   "metadata": {},
   "outputs": [
    {
     "name": "stdout",
     "output_type": "stream",
     "text": [
      "enter your age : 20\n",
      "You are eligible to vote\n"
     ]
    }
   ],
   "source": [
    "eligibility()"
   ]
  },
  {
   "cell_type": "code",
   "execution_count": 54,
   "id": "d91c28f6",
   "metadata": {},
   "outputs": [
    {
     "name": "stdout",
     "output_type": "stream",
     "text": [
      "enter your age : 17\n",
      "men\n"
     ]
    }
   ],
   "source": [
    "age=int(input('enter your age : '))\n",
    "if age<=16:\n",
    "    print('boy')\n",
    "elif age>=17 and age<=40:\n",
    "    print('men')\n",
    "elif age>=41 and age<=70:\n",
    "    print('old man')\n",
    "else:\n",
    "    print('old old man')"
   ]
  },
  {
   "cell_type": "markdown",
   "id": "95fdec9e",
   "metadata": {},
   "source": [
    "# Range function "
   ]
  },
  {
   "cell_type": "raw",
   "id": "81f8b05c",
   "metadata": {},
   "source": [
    "range is array of integers\n",
    "range starts with zero by default\n",
    "range(5)=[0,1,2,3,4]\n",
    "range(1,11)=[1,2,3,4,5,6,7,8,9,10]\n",
    "range(1,11,2)=[1,3,5,7,9]"
   ]
  },
  {
   "cell_type": "markdown",
   "id": "3aabfc9b",
   "metadata": {},
   "source": [
    "# for loop"
   ]
  },
  {
   "cell_type": "code",
   "execution_count": 3,
   "id": "bbdaa1a4",
   "metadata": {},
   "outputs": [
    {
     "name": "stdout",
     "output_type": "stream",
     "text": [
      "1\n",
      "2\n"
     ]
    }
   ],
   "source": [
    "a=[1,2,3,4,5]\n",
    "print(a[0])\n",
    "print(a[1])"
   ]
  },
  {
   "cell_type": "raw",
   "id": "38c89616",
   "metadata": {},
   "source": [
    "for temporary_variable in Iterable:\n",
    "    iteration program"
   ]
  },
  {
   "cell_type": "code",
   "execution_count": 8,
   "id": "cc1dc9a2",
   "metadata": {
    "scrolled": true
   },
   "outputs": [
    {
     "name": "stdout",
     "output_type": "stream",
     "text": [
      "1  x 2 =  2\n",
      "2  x 2 =  4\n",
      "3  x 2 =  6\n",
      "4  x 2 =  8\n",
      "5  x 2 =  10\n"
     ]
    }
   ],
   "source": [
    "for i in a:\n",
    "    print(i,' x 2 = ',i*2)"
   ]
  },
  {
   "cell_type": "raw",
   "id": "cf145120",
   "metadata": {},
   "source": [
    "iteration 1 \n",
    " i=1\n",
    "iteration 2  \n",
    " i=2\n",
    "iteration 3 \n",
    " i=3\n",
    "iteration 4 \n",
    " i=4\n",
    "iteration 5 \n",
    " i=5"
   ]
  },
  {
   "cell_type": "code",
   "execution_count": 9,
   "id": "f8133aff",
   "metadata": {},
   "outputs": [
    {
     "name": "stdout",
     "output_type": "stream",
     "text": [
      "1  x 2 =  2\n",
      "2  x 2 =  4\n",
      "3  x 2 =  6\n",
      "4  x 2 =  8\n",
      "5  x 2 =  10\n",
      "6  x 2 =  12\n",
      "7  x 2 =  14\n",
      "8  x 2 =  16\n",
      "9  x 2 =  18\n",
      "10  x 2 =  20\n"
     ]
    }
   ],
   "source": [
    "for i in range(1,11):\n",
    "    print(i,' x 2 = ',i*2)"
   ]
  },
  {
   "cell_type": "code",
   "execution_count": 21,
   "id": "dfca5b63",
   "metadata": {},
   "outputs": [
    {
     "name": "stdout",
     "output_type": "stream",
     "text": [
      "s\n",
      "a\n",
      "i\n",
      "a\n",
      "r\n",
      "a\n",
      "v\n",
      "i\n",
      "n\n",
      "d\n",
      "h\n",
      "a\n",
      "k\n",
      "s\n",
      "h\n",
      "a\n",
      "n\n",
      " \n",
      "s\n",
      "e\n",
      "l\n",
      "v\n",
      "a\n",
      "m\n",
      "a\n",
      "r\n",
      "j\n",
      "u\n",
      "n\n"
     ]
    }
   ],
   "source": [
    "a='saiaravindhakshan selvam','arjun'\n",
    "for sai in a:\n",
    "    for i in sai:\n",
    "        print(i)"
   ]
  },
  {
   "cell_type": "markdown",
   "id": "d936d646",
   "metadata": {},
   "source": [
    "### enumeration in for"
   ]
  },
  {
   "cell_type": "code",
   "execution_count": 55,
   "id": "17711052",
   "metadata": {},
   "outputs": [
    {
     "name": "stdout",
     "output_type": "stream",
     "text": [
      "1 h\n",
      "2 i\n",
      "1 i\n",
      "1 a\n",
      "2 n\n",
      "1 s\n",
      "2 a\n",
      "3 i\n",
      "1 a\n",
      "2 n\n",
      "3 d\n",
      "1 i\n",
      "1 a\n",
      "2 m\n",
      "1 y\n",
      "2 o\n",
      "3 u\n",
      "4 r\n",
      "1 p\n",
      "2 y\n",
      "3 t\n",
      "4 h\n",
      "5 o\n",
      "6 n\n",
      "1 t\n",
      "2 r\n",
      "3 a\n",
      "4 i\n",
      "5 n\n",
      "6 e\n",
      "7 r\n"
     ]
    }
   ],
   "source": [
    "for j in a:\n",
    "    for i,k in enumerate(j,1):\n",
    "        print(i,k)"
   ]
  },
  {
   "cell_type": "code",
   "execution_count": 26,
   "id": "e2be598b",
   "metadata": {},
   "outputs": [
    {
     "name": "stdout",
     "output_type": "stream",
     "text": [
      "loop no .  101\n",
      "s\n",
      "loop no .  102\n",
      "a\n",
      "loop no .  103\n",
      "i\n",
      "loop no .  104\n",
      "a\n",
      "loop no .  105\n",
      "r\n",
      "loop no .  106\n",
      "a\n",
      "loop no .  107\n",
      "v\n",
      "loop no .  108\n",
      "i\n",
      "loop no .  109\n",
      "n\n",
      "loop no .  110\n",
      "d\n",
      "loop no .  111\n",
      "h\n",
      "loop no .  112\n",
      "a\n",
      "loop no .  113\n",
      "k\n",
      "loop no .  114\n",
      "s\n",
      "loop no .  115\n",
      "h\n",
      "loop no .  116\n",
      "a\n",
      "loop no .  117\n",
      "n\n"
     ]
    }
   ],
   "source": [
    "for i,j in enumerate('saiaravindhakshan',101):\n",
    "    print('loop no . ',i)\n",
    "    print(j)"
   ]
  },
  {
   "cell_type": "code",
   "execution_count": 27,
   "id": "82d0094d",
   "metadata": {},
   "outputs": [],
   "source": [
    "a=[1,2,3,4,5,6,7,8,9,10,'s','a']"
   ]
  },
  {
   "cell_type": "code",
   "execution_count": 30,
   "id": "554d30c8",
   "metadata": {},
   "outputs": [
    {
     "name": "stdout",
     "output_type": "stream",
     "text": [
      "1\n",
      "2\n",
      "3\n",
      "4\n",
      "5\n",
      "6\n",
      "7\n",
      "8\n",
      "9\n",
      "10\n",
      "s\n",
      "a\n"
     ]
    }
   ],
   "source": [
    "for i in range(len(a)):\n",
    "    print(a[i])"
   ]
  },
  {
   "cell_type": "code",
   "execution_count": 31,
   "id": "1036f311",
   "metadata": {},
   "outputs": [
    {
     "data": {
      "text/plain": [
       "12"
      ]
     },
     "execution_count": 31,
     "metadata": {},
     "output_type": "execute_result"
    }
   ],
   "source": [
    "len(a)"
   ]
  },
  {
   "cell_type": "code",
   "execution_count": 35,
   "id": "98b71e0a",
   "metadata": {},
   "outputs": [
    {
     "name": "stdout",
     "output_type": "stream",
     "text": [
      "[2, 4, 6]\n"
     ]
    }
   ],
   "source": [
    "a=[1,2,3]\n",
    "b=[1,2,3]\n",
    "c=[]\n",
    "for i in range(len(a)):\n",
    "    c.append(a[i]+b[i])\n",
    "print(c)"
   ]
  },
  {
   "cell_type": "raw",
   "id": "82d2bffb",
   "metadata": {},
   "source": [
    "itr 1:\n",
    "    a[0]+b[0]\n",
    "    1+1\n",
    "    2\n",
    "    c.append(2)\n",
    "itr 2:\n",
    "    a[1]+b[1]\n",
    "    2+2\n",
    "    4\n",
    "    c.append(4)\n",
    "itr 3:\n",
    "    a[2]+b[2]\n",
    "    3+3\n",
    "    6\n",
    "    c.append(6)"
   ]
  },
  {
   "cell_type": "markdown",
   "id": "d93b94e5",
   "metadata": {},
   "source": [
    "# List comprehension"
   ]
  },
  {
   "cell_type": "code",
   "execution_count": 40,
   "id": "ac737d21",
   "metadata": {},
   "outputs": [],
   "source": [
    "#list_name=[ variable for variable in range() if condition]\n",
    "a=[i for i in range(1,101) if i%6!=0]"
   ]
  },
  {
   "cell_type": "code",
   "execution_count": 41,
   "id": "5c8a8cf7",
   "metadata": {},
   "outputs": [
    {
     "data": {
      "text/plain": [
       "[1,\n",
       " 2,\n",
       " 3,\n",
       " 4,\n",
       " 5,\n",
       " 7,\n",
       " 8,\n",
       " 9,\n",
       " 10,\n",
       " 11,\n",
       " 13,\n",
       " 14,\n",
       " 15,\n",
       " 16,\n",
       " 17,\n",
       " 19,\n",
       " 20,\n",
       " 21,\n",
       " 22,\n",
       " 23,\n",
       " 25,\n",
       " 26,\n",
       " 27,\n",
       " 28,\n",
       " 29,\n",
       " 31,\n",
       " 32,\n",
       " 33,\n",
       " 34,\n",
       " 35,\n",
       " 37,\n",
       " 38,\n",
       " 39,\n",
       " 40,\n",
       " 41,\n",
       " 43,\n",
       " 44,\n",
       " 45,\n",
       " 46,\n",
       " 47,\n",
       " 49,\n",
       " 50,\n",
       " 51,\n",
       " 52,\n",
       " 53,\n",
       " 55,\n",
       " 56,\n",
       " 57,\n",
       " 58,\n",
       " 59,\n",
       " 61,\n",
       " 62,\n",
       " 63,\n",
       " 64,\n",
       " 65,\n",
       " 67,\n",
       " 68,\n",
       " 69,\n",
       " 70,\n",
       " 71,\n",
       " 73,\n",
       " 74,\n",
       " 75,\n",
       " 76,\n",
       " 77,\n",
       " 79,\n",
       " 80,\n",
       " 81,\n",
       " 82,\n",
       " 83,\n",
       " 85,\n",
       " 86,\n",
       " 87,\n",
       " 88,\n",
       " 89,\n",
       " 91,\n",
       " 92,\n",
       " 93,\n",
       " 94,\n",
       " 95,\n",
       " 97,\n",
       " 98,\n",
       " 99,\n",
       " 100]"
      ]
     },
     "execution_count": 41,
     "metadata": {},
     "output_type": "execute_result"
    }
   ],
   "source": [
    "a"
   ]
  },
  {
   "cell_type": "code",
   "execution_count": 42,
   "id": "b5f52d6e",
   "metadata": {},
   "outputs": [],
   "source": [
    "a=[]\n",
    "for i in range(1,101):\n",
    "    if i%6!=0:\n",
    "        a.append(i)"
   ]
  },
  {
   "cell_type": "code",
   "execution_count": 1,
   "id": "9eb06b31",
   "metadata": {},
   "outputs": [
    {
     "ename": "NameError",
     "evalue": "name 'a' is not defined",
     "output_type": "error",
     "traceback": [
      "\u001b[1;31m---------------------------------------------------------------------------\u001b[0m",
      "\u001b[1;31mNameError\u001b[0m                                 Traceback (most recent call last)",
      "\u001b[1;32mC:\\Users\\KAASHI~1\\AppData\\Local\\Temp/ipykernel_11328/2167009006.py\u001b[0m in \u001b[0;36m<module>\u001b[1;34m\u001b[0m\n\u001b[1;32m----> 1\u001b[1;33m \u001b[0ma\u001b[0m\u001b[1;33m\u001b[0m\u001b[1;33m\u001b[0m\u001b[0m\n\u001b[0m",
      "\u001b[1;31mNameError\u001b[0m: name 'a' is not defined"
     ]
    }
   ],
   "source": [
    "a"
   ]
  },
  {
   "cell_type": "code",
   "execution_count": 28,
   "id": "432dedf3",
   "metadata": {},
   "outputs": [],
   "source": [
    "#list_name=[ variable for variable in range() if condition]\n",
    "a=[i for i in range(1,101) if i%6!=0]"
   ]
  },
  {
   "cell_type": "code",
   "execution_count": 29,
   "id": "a46035fc",
   "metadata": {},
   "outputs": [
    {
     "data": {
      "text/plain": [
       "[1,\n",
       " 2,\n",
       " 3,\n",
       " 4,\n",
       " 5,\n",
       " 7,\n",
       " 8,\n",
       " 9,\n",
       " 10,\n",
       " 11,\n",
       " 13,\n",
       " 14,\n",
       " 15,\n",
       " 16,\n",
       " 17,\n",
       " 19,\n",
       " 20,\n",
       " 21,\n",
       " 22,\n",
       " 23,\n",
       " 25,\n",
       " 26,\n",
       " 27,\n",
       " 28,\n",
       " 29,\n",
       " 31,\n",
       " 32,\n",
       " 33,\n",
       " 34,\n",
       " 35,\n",
       " 37,\n",
       " 38,\n",
       " 39,\n",
       " 40,\n",
       " 41,\n",
       " 43,\n",
       " 44,\n",
       " 45,\n",
       " 46,\n",
       " 47,\n",
       " 49,\n",
       " 50,\n",
       " 51,\n",
       " 52,\n",
       " 53,\n",
       " 55,\n",
       " 56,\n",
       " 57,\n",
       " 58,\n",
       " 59,\n",
       " 61,\n",
       " 62,\n",
       " 63,\n",
       " 64,\n",
       " 65,\n",
       " 67,\n",
       " 68,\n",
       " 69,\n",
       " 70,\n",
       " 71,\n",
       " 73,\n",
       " 74,\n",
       " 75,\n",
       " 76,\n",
       " 77,\n",
       " 79,\n",
       " 80,\n",
       " 81,\n",
       " 82,\n",
       " 83,\n",
       " 85,\n",
       " 86,\n",
       " 87,\n",
       " 88,\n",
       " 89,\n",
       " 91,\n",
       " 92,\n",
       " 93,\n",
       " 94,\n",
       " 95,\n",
       " 97,\n",
       " 98,\n",
       " 99,\n",
       " 100]"
      ]
     },
     "execution_count": 29,
     "metadata": {},
     "output_type": "execute_result"
    }
   ],
   "source": [
    "a"
   ]
  },
  {
   "cell_type": "code",
   "execution_count": 4,
   "id": "c495830f",
   "metadata": {},
   "outputs": [],
   "source": [
    "even=[i for i in a if i%2==0]"
   ]
  },
  {
   "cell_type": "code",
   "execution_count": 5,
   "id": "8baa4e44",
   "metadata": {},
   "outputs": [
    {
     "data": {
      "text/plain": [
       "[2,\n",
       " 4,\n",
       " 8,\n",
       " 10,\n",
       " 14,\n",
       " 16,\n",
       " 20,\n",
       " 22,\n",
       " 26,\n",
       " 28,\n",
       " 32,\n",
       " 34,\n",
       " 38,\n",
       " 40,\n",
       " 44,\n",
       " 46,\n",
       " 50,\n",
       " 52,\n",
       " 56,\n",
       " 58,\n",
       " 62,\n",
       " 64,\n",
       " 68,\n",
       " 70,\n",
       " 74,\n",
       " 76,\n",
       " 80,\n",
       " 82,\n",
       " 86,\n",
       " 88,\n",
       " 92,\n",
       " 94,\n",
       " 98,\n",
       " 100]"
      ]
     },
     "execution_count": 5,
     "metadata": {},
     "output_type": "execute_result"
    }
   ],
   "source": [
    "even"
   ]
  },
  {
   "cell_type": "code",
   "execution_count": 6,
   "id": "dc6efb04",
   "metadata": {},
   "outputs": [],
   "source": [
    "odd=[i for i in a if i%2!=0]"
   ]
  },
  {
   "cell_type": "code",
   "execution_count": 7,
   "id": "e9a52295",
   "metadata": {},
   "outputs": [
    {
     "data": {
      "text/plain": [
       "[1,\n",
       " 3,\n",
       " 5,\n",
       " 7,\n",
       " 9,\n",
       " 11,\n",
       " 13,\n",
       " 15,\n",
       " 17,\n",
       " 19,\n",
       " 21,\n",
       " 23,\n",
       " 25,\n",
       " 27,\n",
       " 29,\n",
       " 31,\n",
       " 33,\n",
       " 35,\n",
       " 37,\n",
       " 39,\n",
       " 41,\n",
       " 43,\n",
       " 45,\n",
       " 47,\n",
       " 49,\n",
       " 51,\n",
       " 53,\n",
       " 55,\n",
       " 57,\n",
       " 59,\n",
       " 61,\n",
       " 63,\n",
       " 65,\n",
       " 67,\n",
       " 69,\n",
       " 71,\n",
       " 73,\n",
       " 75,\n",
       " 77,\n",
       " 79,\n",
       " 81,\n",
       " 83,\n",
       " 85,\n",
       " 87,\n",
       " 89,\n",
       " 91,\n",
       " 93,\n",
       " 95,\n",
       " 97,\n",
       " 99]"
      ]
     },
     "execution_count": 7,
     "metadata": {},
     "output_type": "execute_result"
    }
   ],
   "source": [
    "odd"
   ]
  },
  {
   "cell_type": "markdown",
   "id": "4194e548",
   "metadata": {},
   "source": [
    "# EB bill calculation using if conditions "
   ]
  },
  {
   "cell_type": "code",
   "execution_count": 12,
   "id": "f1283b58",
   "metadata": {},
   "outputs": [],
   "source": [
    "Eb={}"
   ]
  },
  {
   "cell_type": "code",
   "execution_count": 14,
   "id": "3df16510",
   "metadata": {},
   "outputs": [],
   "source": [
    "def EB():\n",
    "    name=input('enter your name:')\n",
    "    units=int(input('enter the units consumed:'))\n",
    "    if units <=50:\n",
    "        amt=units*2\n",
    "        scr=10\n",
    "    elif units<=100:\n",
    "        amt=100 + ((units-50)*4)\n",
    "        scr=20\n",
    "    elif units<=200:\n",
    "        amt=100 + 200 + ((units-100)*6)\n",
    "        scr=30\n",
    "    else:\n",
    "        amt=100 + 200 + 600 +((units-200)*10)\n",
    "        scr=50\n",
    "\n",
    "    total=amt+scr\n",
    "    print(f'Mr/Mrs.{name},your EB bill for the current month is rs.{total}')\n",
    "    \n",
    "    Eb[name]=total"
   ]
  },
  {
   "cell_type": "code",
   "execution_count": 15,
   "id": "61d60222",
   "metadata": {},
   "outputs": [
    {
     "name": "stdout",
     "output_type": "stream",
     "text": [
      "enter your name:sai\n",
      "enter the units consumed:180\n",
      "Mr/Mrs.sai,your EB bill for the current month is rs.810\n"
     ]
    }
   ],
   "source": [
    "EB()"
   ]
  },
  {
   "cell_type": "code",
   "execution_count": 16,
   "id": "af5444fe",
   "metadata": {},
   "outputs": [
    {
     "name": "stdout",
     "output_type": "stream",
     "text": [
      "enter your name:naveen\n",
      "enter the units consumed:260\n",
      "Mr/Mrs.naveen,your EB bill for the current month is rs.1550\n"
     ]
    }
   ],
   "source": [
    "EB()"
   ]
  },
  {
   "cell_type": "code",
   "execution_count": 17,
   "id": "0a1472d7",
   "metadata": {},
   "outputs": [
    {
     "data": {
      "text/plain": [
       "{'sai': 810, 'naveen': 1550}"
      ]
     },
     "execution_count": 17,
     "metadata": {},
     "output_type": "execute_result"
    }
   ],
   "source": [
    "Eb"
   ]
  },
  {
   "cell_type": "code",
   "execution_count": 19,
   "id": "c98c9923",
   "metadata": {},
   "outputs": [
    {
     "name": "stdout",
     "output_type": "stream",
     "text": [
      "Enter principle amount:100000\n",
      "enter rate of interest:3\n",
      "enter no.of years:4\n"
     ]
    }
   ],
   "source": [
    "a=float(input('Enter principle amount:'))\n",
    "b=float(input('enter rate of interest:'))\n",
    "c=float(input('enter no.of years:'))\n",
    "ci=a*((1+b)/100)**c\n"
   ]
  },
  {
   "cell_type": "code",
   "execution_count": 20,
   "id": "1d83dc54",
   "metadata": {},
   "outputs": [
    {
     "data": {
      "text/plain": [
       "0.256"
      ]
     },
     "execution_count": 20,
     "metadata": {},
     "output_type": "execute_result"
    }
   ],
   "source": [
    "ci"
   ]
  },
  {
   "cell_type": "code",
   "execution_count": 30,
   "id": "aeed0a6d",
   "metadata": {},
   "outputs": [],
   "source": [
    "import math as m"
   ]
  },
  {
   "cell_type": "code",
   "execution_count": 22,
   "id": "fda767f2",
   "metadata": {},
   "outputs": [
    {
     "data": {
      "text/plain": [
       "8.0"
      ]
     },
     "execution_count": 22,
     "metadata": {},
     "output_type": "execute_result"
    }
   ],
   "source": [
    "m.pow(2,3)"
   ]
  },
  {
   "cell_type": "markdown",
   "id": "4eb5a633",
   "metadata": {},
   "source": [
    "### to create multiple loop to get inputs multiple time...use for loop"
   ]
  },
  {
   "cell_type": "code",
   "execution_count": 26,
   "id": "dcaa5214",
   "metadata": {},
   "outputs": [
    {
     "name": "stdout",
     "output_type": "stream",
     "text": [
      "\n",
      "\n",
      "count no. 1 \n",
      "\n",
      "\n",
      "enter your name:sai\n",
      "enter the units consumed:123\n",
      "Mr/Mrs.sai,your EB bill for the current month is rs.468\n",
      "\n",
      "\n",
      "count no. 2 \n",
      "\n",
      "\n",
      "enter your name:naveen\n",
      "enter the units consumed:12\n",
      "Mr/Mrs.naveen,your EB bill for the current month is rs.54\n",
      "\n",
      "\n",
      "count no. 3 \n",
      "\n",
      "\n",
      "enter your name:\n",
      "enter the units consumed:\n"
     ]
    },
    {
     "ename": "ValueError",
     "evalue": "invalid literal for int() with base 10: ''",
     "output_type": "error",
     "traceback": [
      "\u001b[1;31m---------------------------------------------------------------------------\u001b[0m",
      "\u001b[1;31mValueError\u001b[0m                                Traceback (most recent call last)",
      "\u001b[1;32mC:\\Users\\KAASHI~1\\AppData\\Local\\Temp/ipykernel_11328/2692297580.py\u001b[0m in \u001b[0;36m<module>\u001b[1;34m\u001b[0m\n\u001b[0;32m      2\u001b[0m     \u001b[0mprint\u001b[0m\u001b[1;33m(\u001b[0m\u001b[1;34m'\\n\\ncount no.'\u001b[0m\u001b[1;33m,\u001b[0m\u001b[0mi\u001b[0m\u001b[1;33m,\u001b[0m\u001b[1;34m'\\n\\n'\u001b[0m\u001b[1;33m)\u001b[0m\u001b[1;33m\u001b[0m\u001b[1;33m\u001b[0m\u001b[0m\n\u001b[0;32m      3\u001b[0m     \u001b[0mname\u001b[0m\u001b[1;33m=\u001b[0m\u001b[0minput\u001b[0m\u001b[1;33m(\u001b[0m\u001b[1;34m'enter your name:'\u001b[0m\u001b[1;33m)\u001b[0m\u001b[1;33m\u001b[0m\u001b[1;33m\u001b[0m\u001b[0m\n\u001b[1;32m----> 4\u001b[1;33m     \u001b[0munits\u001b[0m\u001b[1;33m=\u001b[0m\u001b[0mint\u001b[0m\u001b[1;33m(\u001b[0m\u001b[0minput\u001b[0m\u001b[1;33m(\u001b[0m\u001b[1;34m'enter the units consumed:'\u001b[0m\u001b[1;33m)\u001b[0m\u001b[1;33m)\u001b[0m\u001b[1;33m\u001b[0m\u001b[1;33m\u001b[0m\u001b[0m\n\u001b[0m\u001b[0;32m      5\u001b[0m     \u001b[1;32mif\u001b[0m \u001b[0munits\u001b[0m \u001b[1;33m<=\u001b[0m\u001b[1;36m50\u001b[0m\u001b[1;33m:\u001b[0m\u001b[1;33m\u001b[0m\u001b[1;33m\u001b[0m\u001b[0m\n\u001b[0;32m      6\u001b[0m         \u001b[0mamt\u001b[0m\u001b[1;33m=\u001b[0m\u001b[0munits\u001b[0m\u001b[1;33m*\u001b[0m\u001b[1;36m2\u001b[0m\u001b[1;33m\u001b[0m\u001b[1;33m\u001b[0m\u001b[0m\n",
      "\u001b[1;31mValueError\u001b[0m: invalid literal for int() with base 10: ''"
     ]
    }
   ],
   "source": [
    "for i in range(1,11): #this for loop will create 10 loops\n",
    "    print('\\n\\ncount no.',i,'\\n\\n')\n",
    "    name=input('enter your name:')\n",
    "    units=int(input('enter the units consumed:'))\n",
    "    if units <=50:\n",
    "        amt=units*2\n",
    "        scr=10\n",
    "    elif units<=100:\n",
    "        amt=100 + ((units-50)*4)\n",
    "        scr=20\n",
    "    elif units<=200:\n",
    "        amt=100 + 200 + ((units-100)*6)\n",
    "        scr=30\n",
    "    else:\n",
    "        amt=100 + 200 + 600 +((units-200)*10)\n",
    "        scr=50\n",
    "    total=amt+scr\n",
    "    print(f'Mr/Mrs.{name},your EB bill for the current month is rs.{total}')"
   ]
  },
  {
   "cell_type": "markdown",
   "id": "52e5e8e6",
   "metadata": {},
   "source": [
    "# Split()\n",
    "this will split the given sequence in given argument  and creates it as a list"
   ]
  },
  {
   "cell_type": "code",
   "execution_count": 27,
   "id": "e7926c69",
   "metadata": {},
   "outputs": [
    {
     "name": "stdout",
     "output_type": "stream",
     "text": [
      "enter words to create list :hi i an sai and i am your python trainer\n"
     ]
    }
   ],
   "source": [
    "sentence=input('enter words to create list :')"
   ]
  },
  {
   "cell_type": "code",
   "execution_count": 28,
   "id": "da414c75",
   "metadata": {},
   "outputs": [
    {
     "data": {
      "text/plain": [
       "'hi i an sai and i am your python trainer'"
      ]
     },
     "execution_count": 28,
     "metadata": {},
     "output_type": "execute_result"
    }
   ],
   "source": [
    "sentence"
   ]
  },
  {
   "cell_type": "code",
   "execution_count": 35,
   "id": "16884c28",
   "metadata": {},
   "outputs": [],
   "source": [
    "a=sentence.split(' ') # this will split the sentence in every spaces( ' ' )"
   ]
  },
  {
   "cell_type": "code",
   "execution_count": 36,
   "id": "cf66fca8",
   "metadata": {},
   "outputs": [
    {
     "data": {
      "text/plain": [
       "['hi', 'i', 'an', 'sai', 'and', 'i', 'am', 'your', 'python', 'trainer']"
      ]
     },
     "execution_count": 36,
     "metadata": {},
     "output_type": "execute_result"
    }
   ],
   "source": [
    "a"
   ]
  },
  {
   "cell_type": "code",
   "execution_count": 39,
   "id": "6a2a2b1b",
   "metadata": {},
   "outputs": [
    {
     "name": "stdout",
     "output_type": "stream",
     "text": [
      "enter any numbers: 1 2 3 4 5\n"
     ]
    }
   ],
   "source": [
    "number =(input('enter any numbers: ').split(' '))"
   ]
  },
  {
   "cell_type": "code",
   "execution_count": 40,
   "id": "d334d464",
   "metadata": {},
   "outputs": [
    {
     "data": {
      "text/plain": [
       "['1', '2', '3', '4', '5']"
      ]
     },
     "execution_count": 40,
     "metadata": {},
     "output_type": "execute_result"
    }
   ],
   "source": [
    "number"
   ]
  },
  {
   "cell_type": "markdown",
   "id": "f8d66111",
   "metadata": {},
   "source": [
    "# Slicing using index() method"
   ]
  },
  {
   "cell_type": "code",
   "execution_count": 1,
   "id": "5bca4ba4",
   "metadata": {},
   "outputs": [],
   "source": [
    "a=[1,2,3,4,5,6,7,'s',8,9,10,11,12,'a']"
   ]
  },
  {
   "cell_type": "code",
   "execution_count": 2,
   "id": "0eeac612",
   "metadata": {},
   "outputs": [
    {
     "data": {
      "text/plain": [
       "['s', 8, 9, 10, 11, 12, 'a']"
      ]
     },
     "execution_count": 2,
     "metadata": {},
     "output_type": "execute_result"
    }
   ],
   "source": [
    "a[a.index('s') : a.index('a')+1]"
   ]
  },
  {
   "cell_type": "markdown",
   "id": "1413ffd9",
   "metadata": {},
   "source": [
    "# sorting tuple and set"
   ]
  },
  {
   "cell_type": "code",
   "execution_count": 4,
   "id": "7bd621b5",
   "metadata": {},
   "outputs": [],
   "source": [
    "t=(1,3,4,5,2,6,8,7)"
   ]
  },
  {
   "cell_type": "code",
   "execution_count": 5,
   "id": "f7122606",
   "metadata": {},
   "outputs": [],
   "source": [
    "t=tuple(sorted(t))\n",
    "# sorted keyword will convert the tuple into list then sorts it...\n",
    "# so we need to change it to tuple again"
   ]
  },
  {
   "cell_type": "code",
   "execution_count": 6,
   "id": "71617682",
   "metadata": {},
   "outputs": [
    {
     "data": {
      "text/plain": [
       "(1, 2, 3, 4, 5, 6, 7, 8)"
      ]
     },
     "execution_count": 6,
     "metadata": {},
     "output_type": "execute_result"
    }
   ],
   "source": [
    "t"
   ]
  },
  {
   "cell_type": "code",
   "execution_count": 7,
   "id": "49ab72b0",
   "metadata": {},
   "outputs": [
    {
     "data": {
      "text/plain": [
       "[1, 2, 3, 4, 5, 6, 7, 8]"
      ]
     },
     "execution_count": 7,
     "metadata": {},
     "output_type": "execute_result"
    }
   ],
   "source": [
    "sorted(t)"
   ]
  },
  {
   "cell_type": "code",
   "execution_count": 8,
   "id": "2e042775",
   "metadata": {},
   "outputs": [],
   "source": [
    "s={1,3,4,5,2,6,8,7}"
   ]
  },
  {
   "cell_type": "code",
   "execution_count": 9,
   "id": "86eade4f",
   "metadata": {},
   "outputs": [],
   "source": [
    "s=set(sorted(t))"
   ]
  },
  {
   "cell_type": "code",
   "execution_count": 10,
   "id": "c6c68e4f",
   "metadata": {},
   "outputs": [
    {
     "data": {
      "text/plain": [
       "{1, 2, 3, 4, 5, 6, 7, 8}"
      ]
     },
     "execution_count": 10,
     "metadata": {},
     "output_type": "execute_result"
    }
   ],
   "source": [
    "s"
   ]
  },
  {
   "cell_type": "code",
   "execution_count": 12,
   "id": "dbed16da",
   "metadata": {},
   "outputs": [],
   "source": [
    "import calendar as cl"
   ]
  },
  {
   "cell_type": "code",
   "execution_count": 16,
   "id": "52b511a8",
   "metadata": {},
   "outputs": [
    {
     "name": "stdout",
     "output_type": "stream",
     "text": [
      "                                               1999\n",
      "\n",
      "      January                   February                   March                     April\n",
      "Mo Tu We Th Fr Sa Su      Mo Tu We Th Fr Sa Su      Mo Tu We Th Fr Sa Su      Mo Tu We Th Fr Sa Su\n",
      "             1  2  3       1  2  3  4  5  6  7       1  2  3  4  5  6  7                1  2  3  4\n",
      " 4  5  6  7  8  9 10       8  9 10 11 12 13 14       8  9 10 11 12 13 14       5  6  7  8  9 10 11\n",
      "11 12 13 14 15 16 17      15 16 17 18 19 20 21      15 16 17 18 19 20 21      12 13 14 15 16 17 18\n",
      "18 19 20 21 22 23 24      22 23 24 25 26 27 28      22 23 24 25 26 27 28      19 20 21 22 23 24 25\n",
      "25 26 27 28 29 30 31                                29 30 31                  26 27 28 29 30\n",
      "\n",
      "        May                       June                      July                     August\n",
      "Mo Tu We Th Fr Sa Su      Mo Tu We Th Fr Sa Su      Mo Tu We Th Fr Sa Su      Mo Tu We Th Fr Sa Su\n",
      "                1  2          1  2  3  4  5  6                1  2  3  4                         1\n",
      " 3  4  5  6  7  8  9       7  8  9 10 11 12 13       5  6  7  8  9 10 11       2  3  4  5  6  7  8\n",
      "10 11 12 13 14 15 16      14 15 16 17 18 19 20      12 13 14 15 16 17 18       9 10 11 12 13 14 15\n",
      "17 18 19 20 21 22 23      21 22 23 24 25 26 27      19 20 21 22 23 24 25      16 17 18 19 20 21 22\n",
      "24 25 26 27 28 29 30      28 29 30                  26 27 28 29 30 31         23 24 25 26 27 28 29\n",
      "31                                                                            30 31\n",
      "\n",
      "     September                  October                   November                  December\n",
      "Mo Tu We Th Fr Sa Su      Mo Tu We Th Fr Sa Su      Mo Tu We Th Fr Sa Su      Mo Tu We Th Fr Sa Su\n",
      "       1  2  3  4  5                   1  2  3       1  2  3  4  5  6  7             1  2  3  4  5\n",
      " 6  7  8  9 10 11 12       4  5  6  7  8  9 10       8  9 10 11 12 13 14       6  7  8  9 10 11 12\n",
      "13 14 15 16 17 18 19      11 12 13 14 15 16 17      15 16 17 18 19 20 21      13 14 15 16 17 18 19\n",
      "20 21 22 23 24 25 26      18 19 20 21 22 23 24      22 23 24 25 26 27 28      20 21 22 23 24 25 26\n",
      "27 28 29 30               25 26 27 28 29 30 31      29 30                     27 28 29 30 31\n",
      "\n"
     ]
    }
   ],
   "source": [
    "print(cl.calendar(1999,m=4))"
   ]
  },
  {
   "cell_type": "code",
   "execution_count": 17,
   "id": "28087040",
   "metadata": {},
   "outputs": [
    {
     "name": "stdout",
     "output_type": "stream",
     "text": [
      "   February 1999\n",
      "Mo Tu We Th Fr Sa Su\n",
      " 1  2  3  4  5  6  7\n",
      " 8  9 10 11 12 13 14\n",
      "15 16 17 18 19 20 21\n",
      "22 23 24 25 26 27 28\n",
      "\n"
     ]
    }
   ],
   "source": [
    "print(cl.month(1999,2))"
   ]
  },
  {
   "cell_type": "code",
   "execution_count": 19,
   "id": "cc16f720",
   "metadata": {},
   "outputs": [],
   "source": [
    "def mon():\n",
    "    y=int(input('enter year number : '))\n",
    "    m=int(input('''enter month number \n",
    "    eg: 2 for feb ,3 for march: '''))\n",
    "    print(cl.month(y,m))"
   ]
  },
  {
   "cell_type": "code",
   "execution_count": 31,
   "id": "b5659ec0",
   "metadata": {},
   "outputs": [
    {
     "name": "stdout",
     "output_type": "stream",
     "text": [
      "enter year number : 1999\n",
      "enter month number \n",
      "    eg: 2 for feb ,3 for march: 2\n",
      "   February 1999\n",
      "Mo Tu We Th Fr Sa Su\n",
      " 1  2  3  4  5  6  7\n",
      " 8  9 10 11 12 13 14\n",
      "15 16 17 18 19 20 21\n",
      "22 23 24 25 26 27 28\n",
      "\n"
     ]
    }
   ],
   "source": [
    "mon()"
   ]
  },
  {
   "cell_type": "code",
   "execution_count": 32,
   "id": "a6c71074",
   "metadata": {},
   "outputs": [
    {
     "name": "stdout",
     "output_type": "stream",
     "text": [
      "enter year number : 2222\n",
      "enter month number \n",
      "    eg: 2 for feb ,3 for march: 2\n",
      "   February 2222\n",
      "Mo Tu We Th Fr Sa Su\n",
      "             1  2  3\n",
      " 4  5  6  7  8  9 10\n",
      "11 12 13 14 15 16 17\n",
      "18 19 20 21 22 23 24\n",
      "25 26 27 28\n",
      "\n"
     ]
    }
   ],
   "source": [
    "mon()"
   ]
  },
  {
   "cell_type": "code",
   "execution_count": 22,
   "id": "80048d4a",
   "metadata": {},
   "outputs": [
    {
     "name": "stdout",
     "output_type": "stream",
     "text": [
      "hello\n",
      "i\n",
      "am\n",
      "sai\n"
     ]
    }
   ],
   "source": [
    "print('hello\\ni\\nam\\nsai')"
   ]
  },
  {
   "cell_type": "code",
   "execution_count": 23,
   "id": "bf8b7af0",
   "metadata": {},
   "outputs": [
    {
     "name": "stdout",
     "output_type": "stream",
     "text": [
      "hello\n",
      "i\n",
      "am\n",
      "sai\n"
     ]
    }
   ],
   "source": [
    "print('''hello\n",
    "i\n",
    "am\n",
    "sai''')"
   ]
  },
  {
   "cell_type": "markdown",
   "id": "ea277491",
   "metadata": {},
   "source": [
    "# Escape sequence"
   ]
  },
  {
   "cell_type": "raw",
   "id": "da9c6f8c",
   "metadata": {},
   "source": [
    "\\n -new line\n",
    "\\t -tab space\n",
    "\\  -to continue the same line in next line"
   ]
  },
  {
   "cell_type": "code",
   "execution_count": 34,
   "id": "f73eaaa5",
   "metadata": {},
   "outputs": [
    {
     "name": "stdout",
     "output_type": "stream",
     "text": [
      "for printing new line ..we use \\n ..this will  create a new line\n"
     ]
    }
   ],
   "source": [
    "print('for printing new line ..we use \\\\n ..this will  create a new line')"
   ]
  },
  {
   "cell_type": "code",
   "execution_count": 27,
   "id": "68fc7e8c",
   "metadata": {},
   "outputs": [],
   "source": [
    "#the additional '\\' before the command is called escape sequence"
   ]
  },
  {
   "cell_type": "code",
   "execution_count": null,
   "id": "68da7cf8",
   "metadata": {},
   "outputs": [],
   "source": [
    "inline if\n",
    "break\n",
    "while \n",
    "exception"
   ]
  },
  {
   "cell_type": "code",
   "execution_count": 3,
   "id": "7d3c29dd",
   "metadata": {},
   "outputs": [
    {
     "name": "stdout",
     "output_type": "stream",
     "text": [
      "1 2 3 4 5 6 7 8 9 10 11 12 13 14 15 16 17 18 19 20 21 22 23 24 25 26 27 28 29 30 31 32 33 34 35 36 37 38 39 40 41 42 43 44 45 46 47 48 49 50 "
     ]
    }
   ],
   "source": [
    "for i in range(1,51):\n",
    "    print(i,end=' ')"
   ]
  },
  {
   "cell_type": "markdown",
   "id": "9bdefe29",
   "metadata": {},
   "source": [
    "# printing numbers without using numbers in program"
   ]
  },
  {
   "cell_type": "code",
   "execution_count": 13,
   "id": "d82e5751",
   "metadata": {},
   "outputs": [],
   "source": [
    "a=['a','b']\n",
    "x= str(a.index('a'))\n",
    "y= str(a.index('b'))\n",
    "z= int(y+x+x)\n",
    "\n",
    "\n",
    "for i in range(int(y),z):\n",
    "    print(i,end=' ')"
   ]
  },
  {
   "cell_type": "code",
   "execution_count": 18,
   "id": "9927fdcd",
   "metadata": {},
   "outputs": [
    {
     "data": {
      "text/plain": [
       "65"
      ]
     },
     "execution_count": 18,
     "metadata": {},
     "output_type": "execute_result"
    }
   ],
   "source": [
    "ord('A')"
   ]
  },
  {
   "cell_type": "code",
   "execution_count": 19,
   "id": "ec694520",
   "metadata": {},
   "outputs": [
    {
     "data": {
      "text/plain": [
       "66"
      ]
     },
     "execution_count": 19,
     "metadata": {},
     "output_type": "execute_result"
    }
   ],
   "source": [
    "ord('B')"
   ]
  },
  {
   "cell_type": "code",
   "execution_count": 20,
   "id": "99573dfa",
   "metadata": {},
   "outputs": [
    {
     "name": "stdout",
     "output_type": "stream",
     "text": [
      "1 2 3 4 5 6 7 8 9 10 11 12 13 14 15 16 17 18 19 20 21 22 23 24 25 26 27 28 29 30 31 32 33 34 35 36 37 38 39 40 41 42 43 44 45 46 47 48 49 50 51 52 53 54 55 56 57 58 59 60 61 62 63 64 65 66 67 68 69 70 71 72 73 74 75 76 77 78 79 80 81 82 83 84 85 86 87 88 89 90 91 92 93 94 95 96 97 98 99 100 "
     ]
    }
   ],
   "source": [
    "a=str(ord('B')-ord('A'))\n",
    "b=str(ord('B')-ord('B'))\n",
    "c=int(a+b+a)\n",
    "for i in range(int(a),c):\n",
    "    print(i,end = ' ')"
   ]
  },
  {
   "cell_type": "code",
   "execution_count": 27,
   "id": "12d96847",
   "metadata": {},
   "outputs": [
    {
     "name": "stdout",
     "output_type": "stream",
     "text": [
      "1 sai 2 sai 3 sai 4 sai 5 sai 6 sai 7 sai 8 sai 9 sai "
     ]
    }
   ],
   "source": [
    "for i in range(1,10):\n",
    "    print(i,end=\" sai \")"
   ]
  },
  {
   "cell_type": "markdown",
   "id": "c0fc8d19",
   "metadata": {},
   "source": [
    "# While loop"
   ]
  },
  {
   "cell_type": "code",
   "execution_count": 7,
   "id": "4596b114",
   "metadata": {},
   "outputs": [
    {
     "name": "stdout",
     "output_type": "stream",
     "text": [
      "10\n",
      "12\n",
      "14\n",
      "16\n",
      "18\n",
      "20\n"
     ]
    }
   ],
   "source": [
    "a=10\n",
    "while a<50:\n",
    "    print(a)\n",
    "    \n",
    "    if a == 20:\n",
    "        break\n",
    "    a = a+2"
   ]
  },
  {
   "cell_type": "code",
   "execution_count": 10,
   "id": "0024ef52",
   "metadata": {},
   "outputs": [
    {
     "name": "stdout",
     "output_type": "stream",
     "text": [
      "           *           \n",
      "          **          \n",
      "         ***         \n",
      "        ****        \n",
      "       *****       \n",
      "      ******      \n",
      "     *******     \n",
      "    ********    \n",
      "   *********   \n",
      "  **********  \n"
     ]
    }
   ],
   "source": [
    "a=1\n",
    "b=10\n",
    "while a<=10:\n",
    "    print(b*' ','*'*a,b*' ')\n",
    "    a=a+1\n",
    "    b=b-1"
   ]
  },
  {
   "cell_type": "markdown",
   "id": "c2643735",
   "metadata": {},
   "source": [
    "# Keywords"
   ]
  },
  {
   "cell_type": "markdown",
   "id": "2ab52aed",
   "metadata": {},
   "source": [
    "### zip()"
   ]
  },
  {
   "cell_type": "code",
   "execution_count": 18,
   "id": "8fc6dc39",
   "metadata": {},
   "outputs": [],
   "source": [
    "a=[1,2,3,4,5,6,7,8]\n",
    "b=[2,3,4,5,6,7,8]\n",
    "c=zip(a,b,a,b)"
   ]
  },
  {
   "cell_type": "code",
   "execution_count": 19,
   "id": "21008e89",
   "metadata": {},
   "outputs": [
    {
     "name": "stdout",
     "output_type": "stream",
     "text": [
      "(1, 2, 1, 2)\n",
      "(2, 3, 2, 3)\n",
      "(3, 4, 3, 4)\n",
      "(4, 5, 4, 5)\n",
      "(5, 6, 5, 6)\n",
      "(6, 7, 6, 7)\n",
      "(7, 8, 7, 8)\n"
     ]
    }
   ],
   "source": [
    "for i in c:\n",
    "    print(i)"
   ]
  },
  {
   "cell_type": "code",
   "execution_count": 15,
   "id": "a6f82117",
   "metadata": {},
   "outputs": [
    {
     "name": "stdout",
     "output_type": "stream",
     "text": [
      "value on a is : 1 value on b is : 2\n",
      "value on a is : 2 value on b is : 3\n",
      "value on a is : 3 value on b is : 4\n",
      "value on a is : 4 value on b is : 5\n",
      "value on a is : 5 value on b is : 6\n",
      "value on a is : 6 value on b is : 7\n",
      "value on a is : 7 value on b is : 8\n"
     ]
    }
   ],
   "source": [
    "for i,j in zip(a,b):\n",
    "    print('value on a is :',i,'value on b is :',j)"
   ]
  },
  {
   "cell_type": "markdown",
   "id": "d56a9d27",
   "metadata": {},
   "source": [
    "### map()"
   ]
  },
  {
   "cell_type": "code",
   "execution_count": 24,
   "id": "fd886a46",
   "metadata": {},
   "outputs": [],
   "source": [
    "a=['1','2','3','4','5']"
   ]
  },
  {
   "cell_type": "code",
   "execution_count": 25,
   "id": "650f4a2c",
   "metadata": {},
   "outputs": [],
   "source": [
    "b=list(map(int,a))"
   ]
  },
  {
   "cell_type": "code",
   "execution_count": 26,
   "id": "a86ac3ea",
   "metadata": {},
   "outputs": [
    {
     "data": {
      "text/plain": [
       "[1, 2, 3, 4, 5]"
      ]
     },
     "execution_count": 26,
     "metadata": {},
     "output_type": "execute_result"
    }
   ],
   "source": [
    "b"
   ]
  },
  {
   "cell_type": "code",
   "execution_count": 27,
   "id": "77bd8771",
   "metadata": {},
   "outputs": [
    {
     "name": "stdout",
     "output_type": "stream",
     "text": [
      "1\n",
      "<class 'list'> \n",
      "\n",
      "\n",
      "2\n",
      "<class 'list'> \n",
      "\n",
      "\n",
      "3\n",
      "<class 'list'> \n",
      "\n",
      "\n",
      "4\n",
      "<class 'list'> \n",
      "\n",
      "\n",
      "5\n",
      "<class 'list'> \n",
      "\n",
      "\n"
     ]
    }
   ],
   "source": [
    "for i in a:\n",
    "    print(i)\n",
    "    print(type(a),'\\n\\n')"
   ]
  },
  {
   "cell_type": "code",
   "execution_count": 28,
   "id": "c0f472ea",
   "metadata": {},
   "outputs": [],
   "source": [
    "def cube(a):\n",
    "    return a*a*a\n"
   ]
  },
  {
   "cell_type": "code",
   "execution_count": 29,
   "id": "0d476d51",
   "metadata": {},
   "outputs": [],
   "source": [
    "a=[1,2,3,4,5,6,7,8,9,10]"
   ]
  },
  {
   "cell_type": "code",
   "execution_count": 30,
   "id": "30caa54a",
   "metadata": {},
   "outputs": [],
   "source": [
    "b=list(map(cube,a))"
   ]
  },
  {
   "cell_type": "code",
   "execution_count": 31,
   "id": "4000e854",
   "metadata": {},
   "outputs": [
    {
     "data": {
      "text/plain": [
       "[1, 8, 27, 64, 125, 216, 343, 512, 729, 1000]"
      ]
     },
     "execution_count": 31,
     "metadata": {},
     "output_type": "execute_result"
    }
   ],
   "source": [
    "b"
   ]
  },
  {
   "cell_type": "markdown",
   "id": "b428db9a",
   "metadata": {},
   "source": [
    "# Exception handling"
   ]
  },
  {
   "cell_type": "code",
   "execution_count": 34,
   "id": "35045f1c",
   "metadata": {},
   "outputs": [],
   "source": [
    "import calendar as cl"
   ]
  },
  {
   "cell_type": "code",
   "execution_count": 38,
   "id": "b833d259",
   "metadata": {
    "scrolled": true
   },
   "outputs": [
    {
     "name": "stdout",
     "output_type": "stream",
     "text": [
      "enter year number : 1999\n",
      "enter month number \n",
      "    eg: 2 for feb ,3 for march: feb\n",
      "something went wrong..it may be : invalid literal for int() with base 10: 'feb'\n"
     ]
    }
   ],
   "source": [
    "try:\n",
    "    y=int(input('enter year number : '))\n",
    "    m=int(input('''enter month number \n",
    "    eg: 2 for feb ,3 for march: '''))\n",
    "    print(cl.month(y,m))\n",
    "except Exception as e:\n",
    "    print('something went wrong..it may be :',e)"
   ]
  },
  {
   "cell_type": "markdown",
   "id": "266cffb2",
   "metadata": {},
   "source": [
    "# strip()"
   ]
  },
  {
   "cell_type": "code",
   "execution_count": 12,
   "id": "c6a75a4f",
   "metadata": {},
   "outputs": [],
   "source": [
    "a='.....cccccsdddsai ..;.dwwccdd'\n"
   ]
  },
  {
   "cell_type": "code",
   "execution_count": 5,
   "id": "17201186",
   "metadata": {},
   "outputs": [
    {
     "data": {
      "text/plain": [
       "'.....cccccsddd sai ..;.dwwccdd'"
      ]
     },
     "execution_count": 5,
     "metadata": {},
     "output_type": "execute_result"
    }
   ],
   "source": [
    "a"
   ]
  },
  {
   "cell_type": "code",
   "execution_count": 14,
   "id": "38f0ec5f",
   "metadata": {},
   "outputs": [
    {
     "data": {
      "text/plain": [
       "'ai '"
      ]
     },
     "execution_count": 14,
     "metadata": {},
     "output_type": "execute_result"
    }
   ],
   "source": [
    "a.strip('.cdsw;')"
   ]
  },
  {
   "cell_type": "code",
   "execution_count": 8,
   "id": "5efcf7c5",
   "metadata": {},
   "outputs": [
    {
     "data": {
      "text/plain": [
       "' sai ..;.dwwccdd'"
      ]
     },
     "execution_count": 8,
     "metadata": {},
     "output_type": "execute_result"
    }
   ],
   "source": [
    "a.removeprefix('.....cccccsddd')"
   ]
  },
  {
   "cell_type": "code",
   "execution_count": 9,
   "id": "61ef4646",
   "metadata": {},
   "outputs": [
    {
     "data": {
      "text/plain": [
       "'.....cccccsddd sai'"
      ]
     },
     "execution_count": 9,
     "metadata": {},
     "output_type": "execute_result"
    }
   ],
   "source": [
    "a.removesuffix(' ..;.dwwccdd')"
   ]
  },
  {
   "cell_type": "markdown",
   "id": "fa5569b5",
   "metadata": {},
   "source": [
    "# file handling"
   ]
  },
  {
   "cell_type": "code",
   "execution_count": null,
   "id": "699e4525",
   "metadata": {},
   "outputs": [],
   "source": [
    "r= read mode\n",
    "    we can read the lines inside file(eg.txt)\n",
    "w= write mode\n",
    "    it will erase all the data present and adds the given line\n",
    "a= append mode\n",
    "    it will add the given line to the end of the text\n",
    "r+ =read write mode\n",
    "    we can access both read and write\n",
    "    "
   ]
  },
  {
   "cell_type": "code",
   "execution_count": null,
   "id": "5062881b",
   "metadata": {},
   "outputs": [],
   "source": [
    "#object=open('name of the file','mode')"
   ]
  },
  {
   "cell_type": "code",
   "execution_count": 9,
   "id": "bc2c7482",
   "metadata": {},
   "outputs": [],
   "source": [
    "file=open('sai.txt','r')"
   ]
  },
  {
   "cell_type": "code",
   "execution_count": 10,
   "id": "3bbfc367",
   "metadata": {},
   "outputs": [
    {
     "data": {
      "text/plain": [
       "'\\n'"
      ]
     },
     "execution_count": 10,
     "metadata": {},
     "output_type": "execute_result"
    }
   ],
   "source": [
    "file.readline()"
   ]
  },
  {
   "cell_type": "code",
   "execution_count": 11,
   "id": "165d42fa",
   "metadata": {},
   "outputs": [
    {
     "data": {
      "text/plain": [
       "'hi\\n'"
      ]
     },
     "execution_count": 11,
     "metadata": {},
     "output_type": "execute_result"
    }
   ],
   "source": [
    "file.readline()"
   ]
  },
  {
   "cell_type": "code",
   "execution_count": null,
   "id": "8e178603",
   "metadata": {},
   "outputs": [],
   "source": []
  },
  {
   "cell_type": "code",
   "execution_count": 12,
   "id": "7ab16780",
   "metadata": {
    "scrolled": true
   },
   "outputs": [
    {
     "name": "stdout",
     "output_type": "stream",
     "text": [
      "hello\n",
      "\n",
      "vanakkam\n",
      "\n",
      "all \n",
      "\n",
      "to \n",
      "\n",
      "the\n",
      "\n",
      "python\n",
      "\n",
      "classthis is sai\n"
     ]
    }
   ],
   "source": [
    "for i in file:\n",
    "    print(i)"
   ]
  },
  {
   "cell_type": "code",
   "execution_count": 39,
   "id": "7c2bdea8",
   "metadata": {},
   "outputs": [
    {
     "data": {
      "text/plain": [
       "''"
      ]
     },
     "execution_count": 39,
     "metadata": {},
     "output_type": "execute_result"
    }
   ],
   "source": [
    "file.readline()"
   ]
  },
  {
   "cell_type": "code",
   "execution_count": 33,
   "id": "d9449462",
   "metadata": {},
   "outputs": [
    {
     "name": "stdout",
     "output_type": "stream",
     "text": [
      "hello\n",
      "\n",
      "vanakkam\n",
      "\n",
      "all \n",
      "\n",
      "to \n",
      "\n",
      "the\n",
      "\n",
      "python\n",
      "\n",
      "classthis is sai\n"
     ]
    }
   ],
   "source": [
    "file.close()"
   ]
  },
  {
   "cell_type": "code",
   "execution_count": 24,
   "id": "21276822",
   "metadata": {},
   "outputs": [],
   "source": [
    "file=open('sai.txt','w')"
   ]
  },
  {
   "cell_type": "code",
   "execution_count": 25,
   "id": "bc0c6dfc",
   "metadata": {},
   "outputs": [
    {
     "data": {
      "text/plain": [
       "44"
      ]
     },
     "execution_count": 25,
     "metadata": {},
     "output_type": "execute_result"
    }
   ],
   "source": [
    "file.write('''\n",
    "hi\n",
    "hello\n",
    "vanakkam\n",
    "all \n",
    "to \n",
    "the\n",
    "python\n",
    "class''')"
   ]
  },
  {
   "cell_type": "code",
   "execution_count": 26,
   "id": "b0a4f92c",
   "metadata": {},
   "outputs": [],
   "source": [
    "file.close()"
   ]
  },
  {
   "cell_type": "code",
   "execution_count": 27,
   "id": "b8fd1841",
   "metadata": {},
   "outputs": [],
   "source": [
    "file=open('sai.txt','a')"
   ]
  },
  {
   "cell_type": "code",
   "execution_count": 28,
   "id": "8bc40418",
   "metadata": {},
   "outputs": [
    {
     "data": {
      "text/plain": [
       "11"
      ]
     },
     "execution_count": 28,
     "metadata": {},
     "output_type": "execute_result"
    }
   ],
   "source": [
    "file.write('this is sai')"
   ]
  },
  {
   "cell_type": "code",
   "execution_count": 29,
   "id": "e5517f0a",
   "metadata": {},
   "outputs": [],
   "source": [
    "file.close()"
   ]
  },
  {
   "cell_type": "code",
   "execution_count": 13,
   "id": "b598bf24",
   "metadata": {},
   "outputs": [],
   "source": [
    "newfile=open('python class','w')"
   ]
  },
  {
   "cell_type": "code",
   "execution_count": 14,
   "id": "75ec8be2",
   "metadata": {},
   "outputs": [
    {
     "data": {
      "text/plain": [
       "17"
      ]
     },
     "execution_count": 14,
     "metadata": {},
     "output_type": "execute_result"
    }
   ],
   "source": [
    "newfile.write('hello\\nhi\\nvanakkam')"
   ]
  },
  {
   "cell_type": "code",
   "execution_count": 15,
   "id": "1374e674",
   "metadata": {},
   "outputs": [],
   "source": [
    "newfile.close()"
   ]
  },
  {
   "cell_type": "code",
   "execution_count": 16,
   "id": "60b2c0a3",
   "metadata": {},
   "outputs": [],
   "source": [
    "newfile=open('python class','w')"
   ]
  },
  {
   "cell_type": "code",
   "execution_count": 17,
   "id": "c23f1c58",
   "metadata": {},
   "outputs": [
    {
     "data": {
      "text/plain": [
       "18"
      ]
     },
     "execution_count": 17,
     "metadata": {},
     "output_type": "execute_result"
    }
   ],
   "source": [
    "newfile.write('python\\nis\\nthe\\nbest')"
   ]
  },
  {
   "cell_type": "code",
   "execution_count": 18,
   "id": "160118c2",
   "metadata": {},
   "outputs": [],
   "source": [
    "newfile.close()"
   ]
  },
  {
   "cell_type": "code",
   "execution_count": 19,
   "id": "96c33360",
   "metadata": {},
   "outputs": [],
   "source": [
    "newfile=open('python class','a')"
   ]
  },
  {
   "cell_type": "code",
   "execution_count": 20,
   "id": "60a132e9",
   "metadata": {},
   "outputs": [
    {
     "data": {
      "text/plain": [
       "28"
      ]
     },
     "execution_count": 20,
     "metadata": {},
     "output_type": "execute_result"
    }
   ],
   "source": [
    "newfile.write('\\nlearn\\npython\\nfor\\nthe\\nfuture')"
   ]
  },
  {
   "cell_type": "code",
   "execution_count": 21,
   "id": "49e460fb",
   "metadata": {},
   "outputs": [],
   "source": [
    "newfile.close()"
   ]
  },
  {
   "cell_type": "code",
   "execution_count": 23,
   "id": "395dfbe0",
   "metadata": {},
   "outputs": [],
   "source": [
    "with open ('python class','a') as file:\n",
    "    file.write('\\niam\\nsai')\n",
    "    file.write('\\niam\\nyour\\npython\\ntrainer')\n"
   ]
  },
  {
   "cell_type": "code",
   "execution_count": 24,
   "id": "8b354a3c",
   "metadata": {},
   "outputs": [],
   "source": [
    "#with open ('file name','mode') as object:\n",
    "    #commands"
   ]
  },
  {
   "cell_type": "code",
   "execution_count": 25,
   "id": "736a4602",
   "metadata": {},
   "outputs": [],
   "source": [
    "def even(x):\n",
    "    if x%2==0:\n",
    "        return True\n",
    "    else:\n",
    "        return False"
   ]
  },
  {
   "cell_type": "code",
   "execution_count": 26,
   "id": "581dbe8e",
   "metadata": {},
   "outputs": [],
   "source": [
    "a=[i for i in range(1,101)]"
   ]
  },
  {
   "cell_type": "code",
   "execution_count": 30,
   "id": "94f3e4e9",
   "metadata": {},
   "outputs": [],
   "source": [
    "b=list(filter(even,a))"
   ]
  },
  {
   "cell_type": "code",
   "execution_count": 31,
   "id": "4eb6cde3",
   "metadata": {},
   "outputs": [
    {
     "data": {
      "text/plain": [
       "[2,\n",
       " 4,\n",
       " 6,\n",
       " 8,\n",
       " 10,\n",
       " 12,\n",
       " 14,\n",
       " 16,\n",
       " 18,\n",
       " 20,\n",
       " 22,\n",
       " 24,\n",
       " 26,\n",
       " 28,\n",
       " 30,\n",
       " 32,\n",
       " 34,\n",
       " 36,\n",
       " 38,\n",
       " 40,\n",
       " 42,\n",
       " 44,\n",
       " 46,\n",
       " 48,\n",
       " 50,\n",
       " 52,\n",
       " 54,\n",
       " 56,\n",
       " 58,\n",
       " 60,\n",
       " 62,\n",
       " 64,\n",
       " 66,\n",
       " 68,\n",
       " 70,\n",
       " 72,\n",
       " 74,\n",
       " 76,\n",
       " 78,\n",
       " 80,\n",
       " 82,\n",
       " 84,\n",
       " 86,\n",
       " 88,\n",
       " 90,\n",
       " 92,\n",
       " 94,\n",
       " 96,\n",
       " 98,\n",
       " 100]"
      ]
     },
     "execution_count": 31,
     "metadata": {},
     "output_type": "execute_result"
    }
   ],
   "source": [
    "b"
   ]
  },
  {
   "cell_type": "code",
   "execution_count": 29,
   "id": "081fd7e6",
   "metadata": {},
   "outputs": [
    {
     "data": {
      "text/plain": [
       "[2,\n",
       " 4,\n",
       " 6,\n",
       " 8,\n",
       " 10,\n",
       " 12,\n",
       " 14,\n",
       " 16,\n",
       " 18,\n",
       " 20,\n",
       " 22,\n",
       " 24,\n",
       " 26,\n",
       " 28,\n",
       " 30,\n",
       " 32,\n",
       " 34,\n",
       " 36,\n",
       " 38,\n",
       " 40,\n",
       " 42,\n",
       " 44,\n",
       " 46,\n",
       " 48,\n",
       " 50,\n",
       " 52,\n",
       " 54,\n",
       " 56,\n",
       " 58,\n",
       " 60,\n",
       " 62,\n",
       " 64,\n",
       " 66,\n",
       " 68,\n",
       " 70,\n",
       " 72,\n",
       " 74,\n",
       " 76,\n",
       " 78,\n",
       " 80,\n",
       " 82,\n",
       " 84,\n",
       " 86,\n",
       " 88,\n",
       " 90,\n",
       " 92,\n",
       " 94,\n",
       " 96,\n",
       " 98,\n",
       " 100]"
      ]
     },
     "execution_count": 29,
     "metadata": {},
     "output_type": "execute_result"
    }
   ],
   "source": [
    "list(b)"
   ]
  },
  {
   "cell_type": "code",
   "execution_count": 36,
   "id": "e153c15d",
   "metadata": {},
   "outputs": [
    {
     "name": "stdout",
     "output_type": "stream",
     "text": [
      "1 2 3 4 5\n"
     ]
    }
   ],
   "source": [
    "a,b,c,d,e=map(int,input().split(' '))"
   ]
  },
  {
   "cell_type": "code",
   "execution_count": 37,
   "id": "d57f544d",
   "metadata": {},
   "outputs": [
    {
     "data": {
      "text/plain": [
       "2"
      ]
     },
     "execution_count": 37,
     "metadata": {},
     "output_type": "execute_result"
    }
   ],
   "source": [
    "b"
   ]
  },
  {
   "cell_type": "code",
   "execution_count": 38,
   "id": "f1684c05",
   "metadata": {},
   "outputs": [],
   "source": [
    "a=[i for i in range(1,101)]"
   ]
  },
  {
   "cell_type": "code",
   "execution_count": 72,
   "id": "fca429b2",
   "metadata": {},
   "outputs": [],
   "source": [
    "class math:\n",
    "    def add(self,a,b):\n",
    "        return a+b\n",
    "    def sub(self,b,c):\n",
    "        '''this function will subtract the given two numbers'''\n",
    "        return b-c\n",
    "    def mul(self,b,c):\n",
    "        '''this function will multiplies the given two numbers'''\n",
    "        return b*c\n",
    "    def div(self,b,c):\n",
    "        '''this function will divides the given two numbers'''\n",
    "        return round(b/c,2)\n",
    "    "
   ]
  },
  {
   "cell_type": "code",
   "execution_count": 67,
   "id": "3ffa02dc",
   "metadata": {},
   "outputs": [],
   "source": [
    "maths=math()"
   ]
  },
  {
   "cell_type": "code",
   "execution_count": 68,
   "id": "6e3901e6",
   "metadata": {},
   "outputs": [
    {
     "data": {
      "text/plain": [
       "3.33"
      ]
     },
     "execution_count": 68,
     "metadata": {},
     "output_type": "execute_result"
    }
   ],
   "source": [
    "maths.div(10,3)"
   ]
  },
  {
   "cell_type": "code",
   "execution_count": 69,
   "id": "6a01b94c",
   "metadata": {},
   "outputs": [],
   "source": []
  },
  {
   "cell_type": "code",
   "execution_count": 70,
   "id": "65fcd887",
   "metadata": {},
   "outputs": [
    {
     "ename": "AttributeError",
     "evalue": "'function' object has no attribute 'add2'",
     "output_type": "error",
     "traceback": [
      "\u001b[1;31m---------------------------------------------------------------------------\u001b[0m",
      "\u001b[1;31mAttributeError\u001b[0m                            Traceback (most recent call last)",
      "\u001b[1;32mC:\\Users\\KAASHI~1\\AppData\\Local\\Temp/ipykernel_3176/1115167123.py\u001b[0m in \u001b[0;36m<module>\u001b[1;34m\u001b[0m\n\u001b[1;32m----> 1\u001b[1;33m \u001b[0mad\u001b[0m\u001b[1;33m.\u001b[0m\u001b[0madd2\u001b[0m\u001b[1;33m(\u001b[0m\u001b[1;36m2\u001b[0m\u001b[1;33m,\u001b[0m\u001b[1;36m3\u001b[0m\u001b[1;33m)\u001b[0m\u001b[1;33m\u001b[0m\u001b[1;33m\u001b[0m\u001b[0m\n\u001b[0m",
      "\u001b[1;31mAttributeError\u001b[0m: 'function' object has no attribute 'add2'"
     ]
    }
   ],
   "source": []
  },
  {
   "cell_type": "code",
   "execution_count": 73,
   "id": "df5b54aa",
   "metadata": {},
   "outputs": [],
   "source": [
    "class math:\n",
    "    def __init__(self,a,b):\n",
    "        self.a=a\n",
    "        self.b=b\n",
    "    def add(self):\n",
    "        \n",
    "        \n",
    "        return self.a+self.b\n",
    "    def sub(self):\n",
    "        '''this function will subtract the given two numbers'''\n",
    "        return self.a-self.b\n",
    "    def mul(self):\n",
    "        '''this function will multiplies the given two numbers'''\n",
    "        return self.a*self.b\n",
    "    def div(self):\n",
    "        '''this function will divides the given two numbers'''\n",
    "        return round(self.a/self.b,2)"
   ]
  },
  {
   "cell_type": "code",
   "execution_count": 74,
   "id": "d6acc284",
   "metadata": {},
   "outputs": [],
   "source": [
    "sai=math(10,3)"
   ]
  },
  {
   "cell_type": "code",
   "execution_count": 75,
   "id": "0b3cc130",
   "metadata": {},
   "outputs": [
    {
     "data": {
      "text/plain": [
       "13"
      ]
     },
     "execution_count": 75,
     "metadata": {},
     "output_type": "execute_result"
    }
   ],
   "source": [
    "sai.add()"
   ]
  },
  {
   "cell_type": "code",
   "execution_count": 76,
   "id": "264e345c",
   "metadata": {},
   "outputs": [
    {
     "data": {
      "text/plain": [
       "7"
      ]
     },
     "execution_count": 76,
     "metadata": {},
     "output_type": "execute_result"
    }
   ],
   "source": [
    "sai.sub()"
   ]
  },
  {
   "cell_type": "code",
   "execution_count": 2,
   "id": "871376f6",
   "metadata": {},
   "outputs": [],
   "source": [
    "class house:\n",
    "    def __init__(self,cement,bricks,steel,sand,paint):\n",
    "        self.c=cement\n",
    "        self.b=bricks\n",
    "        self.st=steel\n",
    "        self.sn=sand\n",
    "        self.p=paint\n",
    "    def Build(self):\n",
    "        print('we are using {} cement and {} TMT for building'.format(self.c,self.st))\n",
    "    def Wall(self):\n",
    "        print('we are using {} sand and {} brick'.format(self.sn,self.b))\n",
    "    def painting(self,colour):\n",
    "        print('we are using {} paint and its colour is {}'.format(self.p,colour))\n",
    "low=house('low budget','concrete','c.k.g','m sand','apex')\n",
    "medium=house('vajram','fire','agni','pit','asian')\n",
    "high=house('shankar','red','Jsw','fine','nippon')\n"
   ]
  },
  {
   "cell_type": "code",
   "execution_count": 5,
   "id": "44a853e7",
   "metadata": {},
   "outputs": [
    {
     "name": "stdout",
     "output_type": "stream",
     "text": [
      "we are using apex paint and its colour is orange\n"
     ]
    }
   ],
   "source": [
    "low.painting('orange')"
   ]
  },
  {
   "cell_type": "code",
   "execution_count": 6,
   "id": "a447e1ea",
   "metadata": {},
   "outputs": [
    {
     "name": "stdout",
     "output_type": "stream",
     "text": [
      "we are using low budget cement and c.k.g TMT for building\n"
     ]
    }
   ],
   "source": [
    "low.Build()"
   ]
  },
  {
   "cell_type": "code",
   "execution_count": 7,
   "id": "b3e2d0c1",
   "metadata": {},
   "outputs": [
    {
     "name": "stdout",
     "output_type": "stream",
     "text": [
      "we are using fine sand and red brick\n"
     ]
    }
   ],
   "source": [
    "high.Wall()"
   ]
  },
  {
   "cell_type": "code",
   "execution_count": 11,
   "id": "b4dadfd4",
   "metadata": {},
   "outputs": [
    {
     "name": "stdout",
     "output_type": "stream",
     "text": [
      "enter your budget=1000\n",
      "enter paint colour=red\n",
      "we are using low budget cement and c.k.g TMT for building\n",
      "we are using m sand sand and concrete brick\n",
      "we are using apex paint and its colour is red\n",
      "enter your budget=100000\n",
      "enter paint colour=red\n",
      "we are using shankar cement and Jsw TMT for building\n",
      "we are using fine sand and red brick\n",
      "we are using nippon paint and its colour is red\n"
     ]
    },
    {
     "ename": "KeyboardInterrupt",
     "evalue": "Interrupted by user",
     "output_type": "error",
     "traceback": [
      "\u001b[1;31m---------------------------------------------------------------------------\u001b[0m",
      "\u001b[1;31mKeyboardInterrupt\u001b[0m                         Traceback (most recent call last)",
      "\u001b[1;32mC:\\Users\\KAASHI~1\\AppData\\Local\\Temp/ipykernel_1408/2911200747.py\u001b[0m in \u001b[0;36m<module>\u001b[1;34m\u001b[0m\n\u001b[0;32m     20\u001b[0m         \u001b[0mprint\u001b[0m\u001b[1;33m(\u001b[0m\u001b[1;34m'your budget too low'\u001b[0m\u001b[1;33m)\u001b[0m\u001b[1;33m\u001b[0m\u001b[1;33m\u001b[0m\u001b[0m\n\u001b[0;32m     21\u001b[0m         \u001b[0mbudg\u001b[0m\u001b[1;33m(\u001b[0m\u001b[1;33m)\u001b[0m\u001b[1;33m\u001b[0m\u001b[1;33m\u001b[0m\u001b[0m\n\u001b[1;32m---> 22\u001b[1;33m \u001b[0mbudg\u001b[0m\u001b[1;33m(\u001b[0m\u001b[1;33m)\u001b[0m\u001b[1;33m\u001b[0m\u001b[1;33m\u001b[0m\u001b[0m\n\u001b[0m",
      "\u001b[1;32mC:\\Users\\KAASHI~1\\AppData\\Local\\Temp/ipykernel_1408/2911200747.py\u001b[0m in \u001b[0;36mbudg\u001b[1;34m()\u001b[0m\n\u001b[0;32m      6\u001b[0m         \u001b[0mlow\u001b[0m\u001b[1;33m.\u001b[0m\u001b[0mWall\u001b[0m\u001b[1;33m(\u001b[0m\u001b[1;33m)\u001b[0m\u001b[1;33m\u001b[0m\u001b[1;33m\u001b[0m\u001b[0m\n\u001b[0;32m      7\u001b[0m         \u001b[0mlow\u001b[0m\u001b[1;33m.\u001b[0m\u001b[0mpainting\u001b[0m\u001b[1;33m(\u001b[0m\u001b[0mpaint_colour\u001b[0m\u001b[1;33m)\u001b[0m\u001b[1;33m\u001b[0m\u001b[1;33m\u001b[0m\u001b[0m\n\u001b[1;32m----> 8\u001b[1;33m         \u001b[0mbudg\u001b[0m\u001b[1;33m(\u001b[0m\u001b[1;33m)\u001b[0m\u001b[1;33m\u001b[0m\u001b[1;33m\u001b[0m\u001b[0m\n\u001b[0m\u001b[0;32m      9\u001b[0m     \u001b[1;32melif\u001b[0m \u001b[0mbudget\u001b[0m\u001b[1;33m>\u001b[0m\u001b[1;36m10000\u001b[0m \u001b[1;32mand\u001b[0m \u001b[0mbudget\u001b[0m\u001b[1;33m<=\u001b[0m\u001b[1;36m50000\u001b[0m\u001b[1;33m:\u001b[0m\u001b[1;33m\u001b[0m\u001b[1;33m\u001b[0m\u001b[0m\n\u001b[0;32m     10\u001b[0m         \u001b[0mmedium\u001b[0m\u001b[1;33m.\u001b[0m\u001b[0mBuild\u001b[0m\u001b[1;33m(\u001b[0m\u001b[1;33m)\u001b[0m\u001b[1;33m\u001b[0m\u001b[1;33m\u001b[0m\u001b[0m\n",
      "\u001b[1;32mC:\\Users\\KAASHI~1\\AppData\\Local\\Temp/ipykernel_1408/2911200747.py\u001b[0m in \u001b[0;36mbudg\u001b[1;34m()\u001b[0m\n\u001b[0;32m     16\u001b[0m         \u001b[0mhigh\u001b[0m\u001b[1;33m.\u001b[0m\u001b[0mWall\u001b[0m\u001b[1;33m(\u001b[0m\u001b[1;33m)\u001b[0m\u001b[1;33m\u001b[0m\u001b[1;33m\u001b[0m\u001b[0m\n\u001b[0;32m     17\u001b[0m         \u001b[0mhigh\u001b[0m\u001b[1;33m.\u001b[0m\u001b[0mpainting\u001b[0m\u001b[1;33m(\u001b[0m\u001b[0mpaint_colour\u001b[0m\u001b[1;33m)\u001b[0m\u001b[1;33m\u001b[0m\u001b[1;33m\u001b[0m\u001b[0m\n\u001b[1;32m---> 18\u001b[1;33m         \u001b[0mbudg\u001b[0m\u001b[1;33m(\u001b[0m\u001b[1;33m)\u001b[0m\u001b[1;33m\u001b[0m\u001b[1;33m\u001b[0m\u001b[0m\n\u001b[0m\u001b[0;32m     19\u001b[0m     \u001b[1;32melse\u001b[0m\u001b[1;33m:\u001b[0m\u001b[1;33m\u001b[0m\u001b[1;33m\u001b[0m\u001b[0m\n\u001b[0;32m     20\u001b[0m         \u001b[0mprint\u001b[0m\u001b[1;33m(\u001b[0m\u001b[1;34m'your budget too low'\u001b[0m\u001b[1;33m)\u001b[0m\u001b[1;33m\u001b[0m\u001b[1;33m\u001b[0m\u001b[0m\n",
      "\u001b[1;32mC:\\Users\\KAASHI~1\\AppData\\Local\\Temp/ipykernel_1408/2911200747.py\u001b[0m in \u001b[0;36mbudg\u001b[1;34m()\u001b[0m\n\u001b[0;32m      1\u001b[0m \u001b[1;32mdef\u001b[0m \u001b[0mbudg\u001b[0m\u001b[1;33m(\u001b[0m\u001b[1;33m)\u001b[0m\u001b[1;33m:\u001b[0m\u001b[1;33m\u001b[0m\u001b[1;33m\u001b[0m\u001b[0m\n\u001b[1;32m----> 2\u001b[1;33m     \u001b[0mbudget\u001b[0m\u001b[1;33m=\u001b[0m\u001b[0mint\u001b[0m\u001b[1;33m(\u001b[0m\u001b[0minput\u001b[0m\u001b[1;33m(\u001b[0m\u001b[1;34m'enter your budget='\u001b[0m\u001b[1;33m)\u001b[0m\u001b[1;33m)\u001b[0m\u001b[1;33m\u001b[0m\u001b[1;33m\u001b[0m\u001b[0m\n\u001b[0m\u001b[0;32m      3\u001b[0m     \u001b[0mpaint_colour\u001b[0m\u001b[1;33m=\u001b[0m\u001b[0minput\u001b[0m\u001b[1;33m(\u001b[0m\u001b[1;34m'enter paint colour='\u001b[0m\u001b[1;33m)\u001b[0m\u001b[1;33m\u001b[0m\u001b[1;33m\u001b[0m\u001b[0m\n\u001b[0;32m      4\u001b[0m     \u001b[1;32mif\u001b[0m \u001b[0mbudget\u001b[0m\u001b[1;33m>=\u001b[0m\u001b[1;36m1000\u001b[0m \u001b[1;32mand\u001b[0m \u001b[0mbudget\u001b[0m\u001b[1;33m<=\u001b[0m\u001b[1;36m10000\u001b[0m\u001b[1;33m:\u001b[0m\u001b[1;33m\u001b[0m\u001b[1;33m\u001b[0m\u001b[0m\n\u001b[0;32m      5\u001b[0m         \u001b[0mlow\u001b[0m\u001b[1;33m.\u001b[0m\u001b[0mBuild\u001b[0m\u001b[1;33m(\u001b[0m\u001b[1;33m)\u001b[0m\u001b[1;33m\u001b[0m\u001b[1;33m\u001b[0m\u001b[0m\n",
      "\u001b[1;32m~\\anaconda3\\lib\\site-packages\\ipykernel\\kernelbase.py\u001b[0m in \u001b[0;36mraw_input\u001b[1;34m(self, prompt)\u001b[0m\n\u001b[0;32m   1004\u001b[0m                 \u001b[1;34m\"raw_input was called, but this frontend does not support input requests.\"\u001b[0m\u001b[1;33m\u001b[0m\u001b[1;33m\u001b[0m\u001b[0m\n\u001b[0;32m   1005\u001b[0m             )\n\u001b[1;32m-> 1006\u001b[1;33m         return self._input_request(\n\u001b[0m\u001b[0;32m   1007\u001b[0m             \u001b[0mstr\u001b[0m\u001b[1;33m(\u001b[0m\u001b[0mprompt\u001b[0m\u001b[1;33m)\u001b[0m\u001b[1;33m,\u001b[0m\u001b[1;33m\u001b[0m\u001b[1;33m\u001b[0m\u001b[0m\n\u001b[0;32m   1008\u001b[0m             \u001b[0mself\u001b[0m\u001b[1;33m.\u001b[0m\u001b[0m_parent_ident\u001b[0m\u001b[1;33m[\u001b[0m\u001b[1;34m\"shell\"\u001b[0m\u001b[1;33m]\u001b[0m\u001b[1;33m,\u001b[0m\u001b[1;33m\u001b[0m\u001b[1;33m\u001b[0m\u001b[0m\n",
      "\u001b[1;32m~\\anaconda3\\lib\\site-packages\\ipykernel\\kernelbase.py\u001b[0m in \u001b[0;36m_input_request\u001b[1;34m(self, prompt, ident, parent, password)\u001b[0m\n\u001b[0;32m   1049\u001b[0m             \u001b[1;32mexcept\u001b[0m \u001b[0mKeyboardInterrupt\u001b[0m\u001b[1;33m:\u001b[0m\u001b[1;33m\u001b[0m\u001b[1;33m\u001b[0m\u001b[0m\n\u001b[0;32m   1050\u001b[0m                 \u001b[1;31m# re-raise KeyboardInterrupt, to truncate traceback\u001b[0m\u001b[1;33m\u001b[0m\u001b[1;33m\u001b[0m\u001b[0m\n\u001b[1;32m-> 1051\u001b[1;33m                 \u001b[1;32mraise\u001b[0m \u001b[0mKeyboardInterrupt\u001b[0m\u001b[1;33m(\u001b[0m\u001b[1;34m\"Interrupted by user\"\u001b[0m\u001b[1;33m)\u001b[0m \u001b[1;32mfrom\u001b[0m \u001b[1;32mNone\u001b[0m\u001b[1;33m\u001b[0m\u001b[1;33m\u001b[0m\u001b[0m\n\u001b[0m\u001b[0;32m   1052\u001b[0m             \u001b[1;32mexcept\u001b[0m \u001b[0mException\u001b[0m\u001b[1;33m:\u001b[0m\u001b[1;33m\u001b[0m\u001b[1;33m\u001b[0m\u001b[0m\n\u001b[0;32m   1053\u001b[0m                 \u001b[0mself\u001b[0m\u001b[1;33m.\u001b[0m\u001b[0mlog\u001b[0m\u001b[1;33m.\u001b[0m\u001b[0mwarning\u001b[0m\u001b[1;33m(\u001b[0m\u001b[1;34m\"Invalid Message:\"\u001b[0m\u001b[1;33m,\u001b[0m \u001b[0mexc_info\u001b[0m\u001b[1;33m=\u001b[0m\u001b[1;32mTrue\u001b[0m\u001b[1;33m)\u001b[0m\u001b[1;33m\u001b[0m\u001b[1;33m\u001b[0m\u001b[0m\n",
      "\u001b[1;31mKeyboardInterrupt\u001b[0m: Interrupted by user"
     ]
    }
   ],
   "source": [
    "\n",
    "def budg():\n",
    "    budget=int(input('enter your budget='))\n",
    "    paint_colour=input('enter paint colour=')\n",
    "    if budget>=1000 and budget<=10000:\n",
    "        low.Build()\n",
    "        low.Wall()\n",
    "        low.painting(paint_colour)\n",
    "        budg()\n",
    "    elif budget>10000 and budget<=50000:\n",
    "        medium.Build()\n",
    "        medium.Wall()\n",
    "        medium.painting(paint_colour)\n",
    "        budg()\n",
    "    elif budget>50000:\n",
    "        high.Build()\n",
    "        high.Wall()\n",
    "        high.painting(paint_colour)\n",
    "        budg()\n",
    "    else:\n",
    "        print('your budget too low')\n",
    "        budg()\n",
    "budg()"
   ]
  },
  {
   "cell_type": "code",
   "execution_count": 9,
   "id": "2ab86138",
   "metadata": {},
   "outputs": [
    {
     "name": "stdout",
     "output_type": "stream",
     "text": [
      "enter your budget=1\n",
      "enter paint colour=red\n",
      "your budget too low\n",
      "enter your budget=100\n",
      "enter paint colour=red\n",
      "your budget too low\n",
      "enter your budget=1000\n",
      "enter paint colour=red\n",
      "we are using low budget cement and c.k.g TMT for building\n",
      "we are using m sand sand and concrete brick\n",
      "we are using apex paint and its colour is red\n"
     ]
    }
   ],
   "source": [
    "budg()"
   ]
  },
  {
   "cell_type": "code",
   "execution_count": 10,
   "id": "4b978f2c",
   "metadata": {},
   "outputs": [
    {
     "name": "stdout",
     "output_type": "stream",
     "text": [
      "enter your budget=1000\n",
      "enter paint colour=red\n",
      "we are using low budget cement and c.k.g TMT for building\n",
      "we are using m sand sand and concrete brick\n",
      "we are using apex paint and its colour is red\n"
     ]
    }
   ],
   "source": [
    "budg()"
   ]
  },
  {
   "cell_type": "markdown",
   "id": "b2de6460",
   "metadata": {},
   "source": [
    "encapsulation:\n",
    "    binding the methods and variables inside the class is called encapsulation\n"
   ]
  },
  {
   "cell_type": "code",
   "execution_count": null,
   "id": "8110c7c8",
   "metadata": {},
   "outputs": [],
   "source": [
    "abstraction\n",
    "creating objects and retrieving methods"
   ]
  },
  {
   "cell_type": "code",
   "execution_count": null,
   "id": "52ba609a",
   "metadata": {},
   "outputs": [],
   "source": [
    "class a\n",
    "class b\n"
   ]
  },
  {
   "cell_type": "code",
   "execution_count": null,
   "id": "b21c598c",
   "metadata": {},
   "outputs": [],
   "source": [
    "class c(a): single inheritance"
   ]
  },
  {
   "cell_type": "code",
   "execution_count": null,
   "id": "b1dac5e7",
   "metadata": {},
   "outputs": [],
   "source": [
    "class d(a,b) : multiple inheritance"
   ]
  },
  {
   "cell_type": "code",
   "execution_count": null,
   "id": "4b985575",
   "metadata": {},
   "outputs": [],
   "source": [
    "class e(a)\n"
   ]
  },
  {
   "cell_type": "code",
   "execution_count": null,
   "id": "f8368350",
   "metadata": {},
   "outputs": [],
   "source": [
    "class f(c): multi level"
   ]
  },
  {
   "cell_type": "code",
   "execution_count": null,
   "id": "bc87e6c6",
   "metadata": {},
   "outputs": [],
   "source": [
    "class g(b):"
   ]
  },
  {
   "cell_type": "code",
   "execution_count": null,
   "id": "fc8fc480",
   "metadata": {},
   "outputs": [],
   "source": [
    "class h (c,e):"
   ]
  },
  {
   "cell_type": "code",
   "execution_count": 22,
   "id": "f10055f9",
   "metadata": {},
   "outputs": [],
   "source": [
    "class bird:\n",
    "    def flight(self):\n",
    "        print('some birds can fly ,some cannot')\n",
    "    def nest(self):\n",
    "        print('birds will rest in its nest')\n",
    "    def leg(self):\n",
    "        print('it will have 2 legs')\n",
    "class parrot(bird):\n",
    "    def flight(self):\n",
    "        print('parrot can fly')\n",
    "    def colour(self):\n",
    "        print('green')\n",
    "    def peak(self):\n",
    "        print('red colour peak')\n",
    "    def speech(self):\n",
    "        print('parrot  can speak')"
   ]
  },
  {
   "cell_type": "code",
   "execution_count": 23,
   "id": "e3bbe9fb",
   "metadata": {},
   "outputs": [],
   "source": [
    "bird=bird()"
   ]
  },
  {
   "cell_type": "code",
   "execution_count": 24,
   "id": "9661934f",
   "metadata": {},
   "outputs": [],
   "source": [
    "parrot=parrot()"
   ]
  },
  {
   "cell_type": "code",
   "execution_count": 17,
   "id": "fb370439",
   "metadata": {},
   "outputs": [
    {
     "name": "stdout",
     "output_type": "stream",
     "text": [
      "parrot can fly\n"
     ]
    }
   ],
   "source": [
    "parrot.flight()"
   ]
  },
  {
   "cell_type": "code",
   "execution_count": 18,
   "id": "3f1beaed",
   "metadata": {},
   "outputs": [
    {
     "name": "stdout",
     "output_type": "stream",
     "text": [
      "some birds can fly ,some cannot\n"
     ]
    }
   ],
   "source": [
    "bird.flight()"
   ]
  },
  {
   "cell_type": "code",
   "execution_count": 19,
   "id": "575ec36c",
   "metadata": {},
   "outputs": [
    {
     "name": "stdout",
     "output_type": "stream",
     "text": [
      "birds will rest in its nest\n"
     ]
    }
   ],
   "source": [
    "parrot.nest()"
   ]
  },
  {
   "cell_type": "code",
   "execution_count": 20,
   "id": "69e150ce",
   "metadata": {},
   "outputs": [
    {
     "name": "stdout",
     "output_type": "stream",
     "text": [
      "some birds can fly ,some cannot\n"
     ]
    }
   ],
   "source": [
    "bird.flight()"
   ]
  },
  {
   "cell_type": "code",
   "execution_count": 21,
   "id": "561700bf",
   "metadata": {},
   "outputs": [
    {
     "name": "stdout",
     "output_type": "stream",
     "text": [
      "parrot can fly\n"
     ]
    }
   ],
   "source": [
    "parrot.flight()"
   ]
  },
  {
   "cell_type": "code",
   "execution_count": 25,
   "id": "a3e8e281",
   "metadata": {},
   "outputs": [
    {
     "name": "stdout",
     "output_type": "stream",
     "text": [
      "it will have 2 legs\n"
     ]
    }
   ],
   "source": [
    "parrot.leg()"
   ]
  },
  {
   "cell_type": "code",
   "execution_count": 19,
   "id": "29704336",
   "metadata": {},
   "outputs": [],
   "source": [
    "lists={}\n",
    "lists['Nokia']={}"
   ]
  },
  {
   "cell_type": "code",
   "execution_count": 20,
   "id": "9a0d8231",
   "metadata": {},
   "outputs": [
    {
     "data": {
      "text/plain": [
       "{'Nokia': {}}"
      ]
     },
     "execution_count": 20,
     "metadata": {},
     "output_type": "execute_result"
    }
   ],
   "source": [
    "lists"
   ]
  },
  {
   "cell_type": "code",
   "execution_count": 5,
   "id": "e5412b47",
   "metadata": {},
   "outputs": [],
   "source": [
    "lists['Nokia','modal']='nokia 7'"
   ]
  },
  {
   "cell_type": "code",
   "execution_count": 21,
   "id": "a1492e7d",
   "metadata": {},
   "outputs": [
    {
     "data": {
      "text/plain": [
       "{'Nokia': {}}"
      ]
     },
     "execution_count": 21,
     "metadata": {},
     "output_type": "execute_result"
    }
   ],
   "source": [
    "lists"
   ]
  },
  {
   "cell_type": "code",
   "execution_count": 7,
   "id": "7ddfea3e",
   "metadata": {},
   "outputs": [],
   "source": [
    "del lists[('Nokia', 'modal')]"
   ]
  },
  {
   "cell_type": "code",
   "execution_count": 22,
   "id": "56eabc27",
   "metadata": {},
   "outputs": [
    {
     "data": {
      "text/plain": [
       "{'Nokia': {}}"
      ]
     },
     "execution_count": 22,
     "metadata": {},
     "output_type": "execute_result"
    }
   ],
   "source": [
    "lists"
   ]
  },
  {
   "cell_type": "code",
   "execution_count": 23,
   "id": "91088722",
   "metadata": {},
   "outputs": [],
   "source": [
    "lists['Nokia']['modal']='nokia7'"
   ]
  },
  {
   "cell_type": "code",
   "execution_count": 24,
   "id": "3c01cc83",
   "metadata": {
    "scrolled": true
   },
   "outputs": [
    {
     "data": {
      "text/plain": [
       "{'Nokia': {'modal': 'nokia7'}}"
      ]
     },
     "execution_count": 24,
     "metadata": {},
     "output_type": "execute_result"
    }
   ],
   "source": [
    "lists"
   ]
  },
  {
   "cell_type": "code",
   "execution_count": 26,
   "id": "167b051e",
   "metadata": {},
   "outputs": [],
   "source": [
    "lists['LG']={}"
   ]
  },
  {
   "cell_type": "code",
   "execution_count": 27,
   "id": "828dfb56",
   "metadata": {},
   "outputs": [],
   "source": [
    "lists['LG']['modal']='lg 7'"
   ]
  },
  {
   "cell_type": "code",
   "execution_count": 28,
   "id": "8e5bc594",
   "metadata": {},
   "outputs": [
    {
     "data": {
      "text/plain": [
       "{'Nokia': {'modal': 'nokia7'}, 'LG': {'modal': 'lg 7'}}"
      ]
     },
     "execution_count": 28,
     "metadata": {},
     "output_type": "execute_result"
    }
   ],
   "source": [
    "lists"
   ]
  },
  {
   "cell_type": "code",
   "execution_count": null,
   "id": "ea836698",
   "metadata": {},
   "outputs": [],
   "source": []
  },
  {
   "cell_type": "code",
   "execution_count": 15,
   "id": "e35cb1d2",
   "metadata": {},
   "outputs": [
    {
     "name": "stdout",
     "output_type": "stream",
     "text": [
      "The original dictionary is : {'GFG': {'rate': 4, 'since': 2012}}\n"
     ]
    }
   ],
   "source": [
    "# initializing dictionary\n",
    "test_dict = {'GFG' : {'rate' : 4, 'since' : 2012}}\n",
    " \n",
    "# printing original dictionary\n",
    "print(\"The original dictionary is : \" + str(test_dict))\n",
    " \n",
    "# Using dictionary brackets\n",
    "# Update nested dictionary keys\n",
    "test_dict['GFG']['rank'] = 1\n",
    " "
   ]
  },
  {
   "cell_type": "code",
   "execution_count": 16,
   "id": "24946da0",
   "metadata": {},
   "outputs": [
    {
     "data": {
      "text/plain": [
       "{'GFG': {'rate': 4, 'since': 2012, 'rank': 1}}"
      ]
     },
     "execution_count": 16,
     "metadata": {},
     "output_type": "execute_result"
    }
   ],
   "source": [
    "test_dict"
   ]
  },
  {
   "cell_type": "code",
   "execution_count": null,
   "id": "1661605a",
   "metadata": {},
   "outputs": [],
   "source": []
  }
 ],
 "metadata": {
  "kernelspec": {
   "display_name": "Python 3 (ipykernel)",
   "language": "python",
   "name": "python3"
  },
  "language_info": {
   "codemirror_mode": {
    "name": "ipython",
    "version": 3
   },
   "file_extension": ".py",
   "mimetype": "text/x-python",
   "name": "python",
   "nbconvert_exporter": "python",
   "pygments_lexer": "ipython3",
   "version": "3.9.7"
  }
 },
 "nbformat": 4,
 "nbformat_minor": 5
}
